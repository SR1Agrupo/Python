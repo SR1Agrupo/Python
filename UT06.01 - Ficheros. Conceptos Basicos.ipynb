{
 "cells": [
  {
   "cell_type": "markdown",
   "metadata": {},
   "source": [
    "**Ejercicio 1**. Escribir un script que pida un número entero entre 1 y 10 y guarde en un fichero con el nombre tablaN.txt la tabla de multiplicar de ese número, donde N es el número introducido."
   ]
  },
  {
   "cell_type": "code",
   "execution_count": 1,
   "metadata": {},
   "outputs": [
    {
     "name": "stdout",
     "output_type": "stream",
     "text": [
      "Número: 2\n"
     ]
    }
   ],
   "source": [
    "# Solicitamos el número.\n",
    "numero = int(input(\"Número: \"))\n",
    "# Obtenemos el nombre del fichero. Si el número es 7 el nombre será tabla7.txt.\n",
    "nombreFichero = f\"tabla{numero}.txt\"\n",
    "# Escribimos en el fichero la tabla de multiplicar del número.\n",
    "fichero = open(nombreFichero,\"w\")\n",
    "for indice in range(11):\n",
    "    linea = f\"{indice:>2} X {numero:>2} = {indice*numero:>3}\"\n",
    "    fichero.write(linea + \"\\n\")\n",
    "fichero.close()"
   ]
  },
  {
   "cell_type": "markdown",
   "metadata": {},
   "source": [
    "**Ejercicio 2**. Escribir un script que pida un número entero entre 1 y 10, lea el fichero tablaN.txt con la tabla de multiplicar de ese número, donde N es el número introducido, y la muestre por pantalla. Si el fichero no existe debe mostrar un mensaje por pantalla informando de ello."
   ]
  },
  {
   "cell_type": "code",
   "execution_count": null,
   "metadata": {},
   "outputs": [],
   "source": []
  },
  {
   "cell_type": "markdown",
   "metadata": {},
   "source": [
    "**Ejercicio 3**.Escribir un script que pida dos números n y m entre 0 y 10, lea el fichero tablaN.txt con la tabla de multiplicar de ese número, y muestre por pantalla la línea m del fichero. Si el fichero no existe debe mostrar un mensaje por pantalla informando de ello."
   ]
  },
  {
   "cell_type": "code",
   "execution_count": 3,
   "metadata": {},
   "outputs": [
    {
     "name": "stdout",
     "output_type": "stream",
     "text": [
      "N: 5\n",
      "M: 7\n",
      "No existe el fichero.\n"
     ]
    }
   ],
   "source": [
    "# Importamos los modulos necesrios.\n",
    "import os\n",
    "import os.path\n",
    "\n",
    "# Solicitamos los datos.\n",
    "n = int(input(\"N: \"))\n",
    "m = int(input(\"M: \"))\n",
    "\n",
    "# Comprobamos si existe el fichero.\n",
    "path = f\"{os.getcwd()}/tabla{n}.txt\"\n",
    "if os.path.exists(path):\n",
    "    fichero = open(path,\"r\")\n",
    "    lineas = fichero.readlines()\n",
    "    print(f\"La linea solicitada es: {lineas[m]}\")\n",
    "    fichero.close()\n",
    "else:\n",
    "    print(f\"No existe el fichero.\")"
   ]
  },
  {
   "cell_type": "markdown",
   "metadata": {},
   "source": [
    "El fichero cotizacion.csv contiene las cotizaciones de las empresas del IBEX35 con las siguientes columnas: \n",
    "\n",
    "* nombre. Nombre de la empresa.\n",
    "* final. Precio de la acción al cierre de bolsa.\n",
    "* maximo. Precio máximo de la acción durante la jornada.\n",
    "* minimo. Precio mínimo de la acción durante la jornada).\n",
    "* volumen. Volumen al cierre de bolsa.\n",
    "* efectivo (capitalización al cierre en miles de euros)."
   ]
  },
  {
   "cell_type": "markdown",
   "metadata": {},
   "source": [
    "**Ejercicio 4**. Construir la función **datosValor(fichero, valor)** que reciba el nombre del fichero de cotizaciones y una valor a buscar.\n",
    "       \n",
    "La función devolverá un diccionario con el formato siguiente:\n",
    "\n",
    "<pre>{\"Valor\":\"ACCIONA\",\"final\":95.95,\"maximo\":96.75,\"minimo\":94.4,\"volumen\":84962,\"efectivo\":8166.11}</pre>\n",
    "\n",
    "En el caso de que no exista el valor, devolverá el diccionario vacio."
   ]
  },
  {
   "cell_type": "code",
   "execution_count": null,
   "metadata": {},
   "outputs": [],
   "source": []
  },
  {
   "cell_type": "markdown",
   "metadata": {},
   "source": [
    "**Ejercicio 5**. Construir un script que obtenga el nombre de un valor y un número de acciones. El script debe calcular el precio de mercado al final de la sesión de dicho paquete.\n",
    "\n",
    "Usar la función anteriormente desarrollada."
   ]
  },
  {
   "cell_type": "code",
   "execution_count": null,
   "metadata": {},
   "outputs": [],
   "source": []
  }
 ],
 "metadata": {
  "kernelspec": {
   "display_name": "Python 3",
   "language": "python",
   "name": "python3"
  },
  "language_info": {
   "codemirror_mode": {
    "name": "ipython",
    "version": 3
   },
   "file_extension": ".py",
   "mimetype": "text/x-python",
   "name": "python",
   "nbconvert_exporter": "python",
   "pygments_lexer": "ipython3",
   "version": "3.8.10"
  }
 },
 "nbformat": 4,
 "nbformat_minor": 4
}
