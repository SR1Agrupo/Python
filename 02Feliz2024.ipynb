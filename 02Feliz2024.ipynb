{
 "cells": [
  {
   "cell_type": "markdown",
   "metadata": {},
   "source": [
    "## Feliz `2024`"
   ]
  },
  {
   "cell_type": "code",
   "execution_count": 1,
   "metadata": {},
   "outputs": [
    {
     "name": "stdout",
     "output_type": "stream",
     "text": [
      "Feliz y próspero `2024` para todos\n",
      "\n",
      "               *\n",
      "              ***\n",
      "             *****\n",
      "            *******\n",
      "           *********\n",
      "          ***********\n",
      "         *************\n",
      "        ***************\n",
      "       *****************\n",
      "               || \n",
      "            \\======/\n",
      "               || \n",
      "            \\======/\n",
      "            \\_(ツ)_/\n",
      "               || \n"
     ]
    }
   ],
   "source": [
    "import numpy as np\n",
    "\n",
    "x = np.arange(7,16)\n",
    "y = np.arange(1,18,2)\n",
    "z = np.column_stack((x[:: -1],y))\n",
    "\n",
    "print(\"Feliz y próspero `2024` para todos\")\n",
    "\n",
    "print()\n",
    "\n",
    "for i,j in z:\n",
    "  \n",
    "    print(' '*i+'*'*j) \n",
    "\n",
    "for r in range(2): \n",
    "\n",
    "    print(' '*13, ' || ') \n",
    "\n",
    "    print(' '*12, end = '\\\\======/') \n",
    "\n",
    "    print('')\n",
    "    \n",
    "print(' '*12, end = '\\\\_(ツ)_/\\n')\n",
    "    \n",
    "print(' '*13, ' || ') \n"
   ]
  },
  {
   "cell_type": "code",
   "execution_count": 2,
   "metadata": {},
   "outputs": [
    {
     "name": "stdout",
     "output_type": "stream",
     "text": [
      "Quedan 0 días hasta el 2024\n",
      "\n",
      "3...\n",
      "2...\n",
      "1...\n",
      "\n",
      "¡Feliz año!\n"
     ]
    }
   ],
   "source": [
    "# Get the current year\n",
    "import datetime\n",
    "now = datetime.datetime.now()\n",
    "current_year = now.year\n",
    "\n",
    "# Calculate the number of days until New Year's Day of the next year\n",
    "new_year = datetime.datetime(current_year + 1, 1, 1)\n",
    "delta = new_year - now\n",
    "days_until_new_year = delta.days\n",
    "\n",
    "# Print the number of days until New Year's Day\n",
    "print(f\"Quedan {days_until_new_year} días hasta el 2024\")\n",
    "print()\n",
    "\n",
    "# Create a countdown loop\n",
    "for i in range(3, 0, -1):\n",
    "    print(f\"{i}...\")\n",
    "\n",
    "# Ring in the new year with a celebratory message\n",
    "print()\n",
    "print(\"¡Feliz año!\")"
   ]
  },
  {
   "cell_type": "markdown",
   "metadata": {},
   "source": [
    "<img src=\"./img/GG.gif\"/>"
   ]
  },
  {
   "cell_type": "code",
   "execution_count": 3,
   "metadata": {},
   "outputs": [
    {
     "name": "stdout",
     "output_type": "stream",
     "text": [
      "                                  2024\n",
      "\n",
      "      January                   February                   March\n",
      "Mo Tu We Th Fr Sa Su      Mo Tu We Th Fr Sa Su      Mo Tu We Th Fr Sa Su\n",
      " 1  2  3  4  5  6  7                1  2  3  4                   1  2  3\n",
      " 8  9 10 11 12 13 14       5  6  7  8  9 10 11       4  5  6  7  8  9 10\n",
      "15 16 17 18 19 20 21      12 13 14 15 16 17 18      11 12 13 14 15 16 17\n",
      "22 23 24 25 26 27 28      19 20 21 22 23 24 25      18 19 20 21 22 23 24\n",
      "29 30 31                  26 27 28 29               25 26 27 28 29 30 31\n",
      "\n",
      "       April                      May                       June\n",
      "Mo Tu We Th Fr Sa Su      Mo Tu We Th Fr Sa Su      Mo Tu We Th Fr Sa Su\n",
      " 1  2  3  4  5  6  7             1  2  3  4  5                      1  2\n",
      " 8  9 10 11 12 13 14       6  7  8  9 10 11 12       3  4  5  6  7  8  9\n",
      "15 16 17 18 19 20 21      13 14 15 16 17 18 19      10 11 12 13 14 15 16\n",
      "22 23 24 25 26 27 28      20 21 22 23 24 25 26      17 18 19 20 21 22 23\n",
      "29 30                     27 28 29 30 31            24 25 26 27 28 29 30\n",
      "\n",
      "        July                     August                  September\n",
      "Mo Tu We Th Fr Sa Su      Mo Tu We Th Fr Sa Su      Mo Tu We Th Fr Sa Su\n",
      " 1  2  3  4  5  6  7                1  2  3  4                         1\n",
      " 8  9 10 11 12 13 14       5  6  7  8  9 10 11       2  3  4  5  6  7  8\n",
      "15 16 17 18 19 20 21      12 13 14 15 16 17 18       9 10 11 12 13 14 15\n",
      "22 23 24 25 26 27 28      19 20 21 22 23 24 25      16 17 18 19 20 21 22\n",
      "29 30 31                  26 27 28 29 30 31         23 24 25 26 27 28 29\n",
      "                                                    30\n",
      "\n",
      "      October                   November                  December\n",
      "Mo Tu We Th Fr Sa Su      Mo Tu We Th Fr Sa Su      Mo Tu We Th Fr Sa Su\n",
      "    1  2  3  4  5  6                   1  2  3                         1\n",
      " 7  8  9 10 11 12 13       4  5  6  7  8  9 10       2  3  4  5  6  7  8\n",
      "14 15 16 17 18 19 20      11 12 13 14 15 16 17       9 10 11 12 13 14 15\n",
      "21 22 23 24 25 26 27      18 19 20 21 22 23 24      16 17 18 19 20 21 22\n",
      "28 29 30 31               25 26 27 28 29 30         23 24 25 26 27 28 29\n",
      "                                                    30 31\n",
      "\n"
     ]
    }
   ],
   "source": [
    "\n",
    "import calendar\n",
    "\n",
    "def printcalendar(yr):\n",
    "\n",
    "\n",
    "     # printing calendar\n",
    "\n",
    "     print(calendar.calendar(yr))\n",
    "  \n",
    "\n",
    "# driver program\n",
    "\n",
    "yr = 2024\n",
    "\n",
    "printcalendar(yr)"
   ]
  }
 ],
 "metadata": {
  "kernelspec": {
   "display_name": ".venv",
   "language": "python",
   "name": "python3"
  },
  "language_info": {
   "codemirror_mode": {
    "name": "ipython",
    "version": 3
   },
   "file_extension": ".py",
   "mimetype": "text/x-python",
   "name": "python",
   "nbconvert_exporter": "python",
   "pygments_lexer": "ipython3",
   "version": "3.12.0"
  }
 },
 "nbformat": 4,
 "nbformat_minor": 2
}
