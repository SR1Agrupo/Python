{
 "cells": [
  {
   "cell_type": "markdown",
   "metadata": {},
   "source": [
    "# \n",
    "\n",
    "Simulación de un sistema `DNS` básico con direcciones `IP` usando la estructura [diccionario de Python][def]\n",
    "\n",
    "[def]: https://docs.python.org/es/3.12/tutorial/datastructures.html#dictionaries"
   ]
  },
  {
   "cell_type": "code",
   "execution_count": 1,
   "metadata": {},
   "outputs": [
    {
     "name": "stdout",
     "output_type": "stream",
     "text": [
      "Dirección IP para servidor1: 192.168.1.10\n",
      "Dirección IP para servidor2: 192.168.1.11\n",
      "Dirección IP para cliente1: 192.168.1.20\n",
      "Dirección IP para cliente2: 192.168.1.21\n",
      "Dirección IP para routerA: 10.0.0.256\n"
     ]
    }
   ],
   "source": [
    "# Definir un diccionario DNS (nombre de host -> dirección IP)\n",
    "\n",
    "dns_dict = {\n",
    "    'servidor1': '192.168.1.10',  # Invalid IP address\n",
    "    'servidor2': '192.168.1.11',  # Invalid IP address\n",
    "    'cliente1': '192.168.1.20',   # Invalid IP address\n",
    "    'cliente2': '192.168.1.21',   # Invalid IP address\n",
    "    'routerA': '10.0.0.256',      # Invalid IP address\n",
    "}\n",
    "\n",
    "# Lista de nombres de host para buscar en el sistema DNS\n",
    "nombres_host = ['servidor1', 'servidor2','cliente1', 'cliente2', 'routerA']\n",
    "\n",
    "# Iterar a través de la lista de nombres de host y buscar en el sistema DNS\n",
    "for nombre_host in nombres_host:\n",
    "    if nombre_host in dns_dict:\n",
    "        direccion_ip = dns_dict[nombre_host]\n",
    "        print(f'Dirección IP para {nombre_host}: {direccion_ip}')\n",
    "    else:\n",
    "        print(f'No se encontró una dirección IP para {nombre_host} en el sistema DNS')\n"
   ]
  },
  {
   "cell_type": "markdown",
   "metadata": {},
   "source": [
    "> Ejemplo de presentación gráfica"
   ]
  },
  {
   "cell_type": "code",
   "execution_count": 2,
   "metadata": {},
   "outputs": [
    {
     "name": "stdout",
     "output_type": "stream",
     "text": [
      "\n",
      "Sistema DNS Básico\n",
      "\n"
     ]
    },
    {
     "data": {
      "image/png": "[encoded data removed]",
      "text/plain": [
       "<Figure size 640x480 with 1 Axes>"
      ]
     },
     "metadata": {},
     "output_type": "display_data"
    }
   ],
   "source": [
    "import matplotlib.pyplot as plt\n",
    "\n",
    "# Datos para el gráfico\n",
    "nombres_host = ['servidor1', 'servidor2', 'cliente1', 'cliente2', 'routerA']\n",
    "direcciones_ip = ['192.168.1.10', '192.168.1.20', '192.168.1.30','192.168.1.40','N/A']\n",
    "\n",
    "# Crear un gráfico de barras\n",
    "plt.bar(nombres_host, direcciones_ip, color=['blue', 'green', 'red', 'orange', 'yellow'])\n",
    "\n",
    "# Añadir etiquetas y título\n",
    "plt.xlabel('______Nombre de Host______')\n",
    "plt.ylabel('Direcciones IP (falsas)')\n",
    "\n",
    "print('')\n",
    "\n",
    "print('Sistema DNS Básico')\n",
    "\n",
    "print('')\n",
    "\n",
    "# Mostrar el gráfico\n",
    "plt.show()\n"
   ]
  },
  {
   "cell_type": "markdown",
   "metadata": {},
   "source": [
    "### Módulos"
   ]
  },
  {
   "cell_type": "markdown",
   "metadata": {},
   "source": [
    "- En este caso se ha utilizado `matplotlib.pyplot` <https://matplotlib.org/>\n",
    "- Para comprobar qué [módulos](https://docs.python.org/es/3/tutorial/modules.html) tienes preparadas para ser importadas ([`import`](https://docs.python.org/es/3/reference/import.html)) y usadas en tú código, se puede usar el simple comando `pip.list`."
   ]
  },
  {
   "cell_type": "code",
   "execution_count": 3,
   "metadata": {},
   "outputs": [
    {
     "name": "stdout",
     "output_type": "stream",
     "text": [
      "Package           Version\n",
      "----------------- ------------\n",
      "asttokens         2.4.1\n",
      "colorama          0.4.6\n",
      "comm              0.2.0\n",
      "contourpy         1.2.0\n",
      "cycler            0.12.1\n",
      "debugpy           1.8.0\n",
      "decorator         5.1.1\n",
      "executing         2.0.1\n",
      "fonttools         4.47.0\n",
      "ipykernel         6.27.1\n",
      "ipython           8.18.1\n",
      "jedi              0.19.1\n",
      "jupyter_client    8.6.0\n",
      "jupyter_core      5.5.0\n",
      "kiwisolver        1.4.5\n",
      "matplotlib        3.8.2\n",
      "matplotlib-inline 0.1.6\n",
      "nest-asyncio      1.5.8\n",
      "numpy             1.26.2\n",
      "packaging         23.2\n",
      "pandas            2.1.4\n",
      "parso             0.8.3\n",
      "Pillow            10.1.0\n",
      "pip               23.3.2\n",
      "platformdirs      4.1.0\n",
      "prompt-toolkit    3.0.41\n",
      "psutil            5.9.6\n",
      "pure-eval         0.2.2\n",
      "Pygments          2.17.2\n",
      "pyparsing         3.1.1\n",
      "python-dateutil   2.8.2\n",
      "pytz              2023.3.post1\n",
      "pywin32           306\n",
      "pyzmq             25.1.2\n",
      "six               1.16.0\n",
      "stack-data        0.6.3\n",
      "tornado           6.4\n",
      "traitlets         5.14.0\n",
      "tzdata            2023.3\n",
      "wcwidth           0.2.12\n",
      "Note: you may need to restart the kernel to use updated packages.\n"
     ]
    }
   ],
   "source": [
    "pip list"
   ]
  }
 ],
 "metadata": {
  "kernelspec": {
   "display_name": "Python 3",
   "language": "python",
   "name": "python3"
  },
  "language_info": {
   "codemirror_mode": {
    "name": "ipython",
    "version": 3
   },
   "file_extension": ".py",
   "mimetype": "text/x-python",
   "name": "python",
   "nbconvert_exporter": "python",
   "pygments_lexer": "ipython3",
   "version": "3.12.0"
  }
 },
 "nbformat": 4,
 "nbformat_minor": 2
}
