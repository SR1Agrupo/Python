{
 "cells": [
  {
   "cell_type": "markdown",
   "metadata": {},
   "source": [
    "# Ejercicio 1.\n",
    "\n",
    "Desarrollar un script que cree una tupla con los meses del año y solicite números por teclado al usuario hasta que introduzca un cero.\n",
    "\n",
    "Si el numero esta entre 1 y la longitud máxima de la tupla, muestra el contenido de esa posición sino muestra un mensaje de error."
   ]
  },
  {
   "cell_type": "code",
   "execution_count": null,
   "metadata": {},
   "outputs": [],
   "source": []
  },
  {
   "cell_type": "markdown",
   "metadata": {},
   "source": [
    "# Ejercicio 2.\n",
    "\n",
    "Desarrollar un script que dada una tupla con números creada en el script, pida por teclado un numero e indique cuantas veces se repite. "
   ]
  },
  {
   "cell_type": "code",
   "execution_count": null,
   "metadata": {},
   "outputs": [],
   "source": []
  },
  {
   "cell_type": "markdown",
   "metadata": {},
   "source": [
    "# Ejercicio 3.\n",
    "\n",
    "Desarrollar un script que dada una tupla con números creada en el script, indique el numero con mayor valor y el que menor tenga. "
   ]
  },
  {
   "cell_type": "code",
   "execution_count": null,
   "metadata": {},
   "outputs": [],
   "source": []
  },
  {
   "cell_type": "markdown",
   "metadata": {},
   "source": [
    "# Ejercicio 4.\n",
    "\n",
    "Desarrollar un script que solicite las coordenadas de dos vectores de tres dimensiones y calcule su producto escalar. Los vectores se deben almacenar en tuplas.\n",
    "\n",
    "El producto escalar de dos vectores se calcula mediante la suma del producto de cada uno de los componentes del vector. Es decir: **(a<sub>1</sub>, a<sub>2</sub>, a<sub>3</sub>) · (b<sub>1</sub>, b<sub>2</sub>, b<sub>3</sub>) = a<sub>1</sub>b<sub>1</sub> + a<sub>2</sub>b<sub>2</sub> + a<sub>3</sub>b<sub>3</sub>**"
   ]
  },
  {
   "cell_type": "code",
   "execution_count": null,
   "metadata": {},
   "outputs": [],
   "source": []
  },
  {
   "cell_type": "markdown",
   "metadata": {},
   "source": [
    "# Ejercicio 5.\n",
    "\n",
    "Desarrollar un script que solicite un número n positivo o cero y calcule el resultado de la función: **f(n) = f(n-1) + f(n-3) con f(0)=0, f(1)=2 y f(2)=1**."
   ]
  },
  {
   "cell_type": "code",
   "execution_count": null,
   "metadata": {},
   "outputs": [],
   "source": []
  },
  {
   "cell_type": "markdown",
   "metadata": {},
   "source": [
    "# Ejercicio 6.\n",
    "\n",
    "Desarrollar un script que solicite por teclado una fecha en formato “dd/mm/aaaa” y calcule el día siguiente al dado. El resultado se devolverá en una tupla."
   ]
  },
  {
   "cell_type": "code",
   "execution_count": null,
   "metadata": {},
   "outputs": [],
   "source": []
  },
  {
   "cell_type": "markdown",
   "metadata": {},
   "source": [
    "# Ejercicio 7.\n",
    "\n",
    "Desarrollar un script que solicite por teclado números y los almacene en una tupla hasta que introduzca un cero. Mostrar la tupla en orden inverso."
   ]
  },
  {
   "cell_type": "code",
   "execution_count": null,
   "metadata": {},
   "outputs": [],
   "source": []
  }
 ],
 "metadata": {
  "kernelspec": {
   "display_name": "Python 3",
   "language": "python",
   "name": "python3"
  },
  "language_info": {
   "codemirror_mode": {
    "name": "ipython",
    "version": 3
   },
   "file_extension": ".py",
   "mimetype": "text/x-python",
   "name": "python",
   "nbconvert_exporter": "python",
   "pygments_lexer": "ipython3",
   "version": "3.8.10"
  }
 },
 "nbformat": 4,
 "nbformat_minor": 4
}
