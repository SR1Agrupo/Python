{
 "cells": [
  {
   "cell_type": "markdown",
   "metadata": {},
   "source": [
    "# Ejercicios de `listas` en `Python`\n",
    "\n",
    "> Marzo 2024"
   ]
  },
  {
   "cell_type": "markdown",
   "metadata": {},
   "source": [
    "## Ejercicio 1\n",
    "\n",
    "Encuentra el valor máximo y mínimo de las siguientes listas:\n",
    "\n",
    "`lista1 = [-10, 0, 10, 30, 20, 50, 40]`\n",
    "\n",
    "`lista2 = [-100, 0, 10, 30, 20, 50, 40, 500]`\n",
    "\n",
    "`lista3 = [-1000, 0, 10, 30, 20, 50, 40, 1500]]`"
   ]
  },
  {
   "cell_type": "code",
   "execution_count": 3,
   "metadata": {},
   "outputs": [
    {
     "name": "stdout",
     "output_type": "stream",
     "text": [
      "El valor máximo y mínimo de la lista1 son respectivamente: 50 y -10\n",
      "El valor máximo y mínimo de la lista2 son respectivamente: 500 y -100\n",
      "El valor máximo y mínimo de la lista3 son respectivamente: 1500 y -1000\n"
     ]
    }
   ],
   "source": [
    "lista1 = [-10, 0, 10, 30, 20, 50, 40]\n",
    "\n",
    "lista2 = [-100, 0, 10, 30, 20, 50, 40, 500]\n",
    "\n",
    "lista3 = [-1000, 0, 10, 30, 20, 50, 40, 1500]\n",
    "\n",
    "máximo = max(lista1)\n",
    "mínimo = min(lista1)\n",
    "\n",
    "print(\"El valor máximo y mínimo de la lista1 son respectivamente:\", máximo, \"y\", mínimo)\n",
    "\n",
    "máximo = max(lista2)\n",
    "mínimo = min(lista2)\n",
    "\n",
    "print(\"El valor máximo y mínimo de la lista2 son respectivamente:\", máximo, \"y\", mínimo)\n",
    "\n",
    "máximo = max(lista3)\n",
    "mínimo = min(lista3)\n",
    "\n",
    "print(\"El valor máximo y mínimo de la lista3 son respectivamente:\", máximo, \"y\", mínimo)"
   ]
  },
  {
   "cell_type": "markdown",
   "metadata": {},
   "source": [
    "## Ejercicio 2\n",
    "\n",
    "Calcula el resultado de multiplicar todos los números enteros entre 1 y 50, el producto de solo los números pares de ese intervalo, y lo mismo para los números impares."
   ]
  },
  {
   "cell_type": "code",
   "execution_count": 4,
   "metadata": {},
   "outputs": [
    {
     "name": "stdout",
     "output_type": "stream",
     "text": [
      "El producto de todos los números enteros del 1 al 50 es: 30414093201713378043612608166064768844377641568960512000000000000\n",
      "El producto de todos los números pares del 1 al 50 es: 520469842636666622693081088000000\n",
      "El producto de todos los números impares del 1 al 50 es: 58435841445947272053455474390625\n"
     ]
    }
   ],
   "source": [
    "# Inicializar producto como 1\n",
    "\n",
    "producto_e = 1\n",
    "\n",
    "# Multiplicar cada número entero del 1 al 50 al producto\n",
    "for numero in range(1, 51):\n",
    "    producto_e *= numero\n",
    "\n",
    "producto_p = 1\n",
    "\n",
    "# Multiplicar cada número par del 1 al 50 al producto\n",
    "for numero in range(2, 51, 2):\n",
    "    producto_p *= numero\n",
    "    \n",
    "producto_i = 1\n",
    "\n",
    "# Multiplicar cada número impar del 1 al 50 al producto\n",
    "for numero in range(1, 51, 2):\n",
    "    producto_i *= numero\n",
    "\n",
    "# Mostrar resultado2\n",
    "print(\"El producto de todos los números enteros del 1 al 50 es:\", producto_e)\n",
    "print(\"El producto de todos los números pares del 1 al 50 es:\", producto_p)\n",
    "print(\"El producto de todos los números impares del 1 al 50 es:\", producto_i)"
   ]
  },
  {
   "cell_type": "markdown",
   "metadata": {},
   "source": []
  },
  {
   "cell_type": "markdown",
   "metadata": {},
   "source": [
    "## Ejercicio 3\n",
    "\n",
    "Concatenar las las listas del `ejercicio 1` y mostrar la lista resultante."
   ]
  },
  {
   "cell_type": "code",
   "execution_count": 5,
   "metadata": {},
   "outputs": [
    {
     "name": "stdout",
     "output_type": "stream",
     "text": [
      "La lista concatenada es: [-10, 0, 10, 30, 20, 50, 40, -100, 0, 10, 30, 20, 50, 40, 500, -1000, 0, 10, 30, 20, 50, 40, 1500]\n"
     ]
    }
   ],
   "source": [
    "# Listas Ejercicio 1\n",
    "\n",
    "lista1 = [-10, 0, 10, 30, 20, 50, 40]\n",
    "\n",
    "lista2 = [-100, 0, 10, 30, 20, 50, 40, 500]\n",
    "\n",
    "lista3 = [-1000, 0, 10, 30, 20, 50, 40, 1500]\n",
    "\n",
    "listaConcatenada = lista1 + lista2 + lista3\n",
    "\n",
    "print(\"La lista concatenada es:\", listaConcatenada)"
   ]
  },
  {
   "cell_type": "markdown",
   "metadata": {},
   "source": [
    "## Ejercicio 4\n",
    "\n",
    "Utiliza un bucle `for` para eliminar los elementos duplicados del resultado del `Ejercicio 3`."
   ]
  },
  {
   "cell_type": "code",
   "execution_count": 6,
   "metadata": {},
   "outputs": [
    {
     "name": "stdout",
     "output_type": "stream",
     "text": [
      "Lista original: [-10, 0, 10, 30, 20, 50, 40, -100, 0, 10, 30, 20, 50, 40, 500, -1000, 0, 10, 30, 20, 50, 40, 1500]\n",
      "Lista sin duplicados: [-10, 0, 10, 30, 20, 50, 40, -100, 500, -1000, 1500]\n"
     ]
    }
   ],
   "source": [
    "lista1 = [-10, 0, 10, 30, 20, 50, 40]\n",
    "\n",
    "lista2 = [-100, 0, 10, 30, 20, 50, 40, 500]\n",
    "\n",
    "lista3 = [-1000, 0, 10, 30, 20, 50, 40, 1500]\n",
    "\n",
    "listaConcatenada = lista1 + lista2 + lista3\n",
    "\n",
    "# La lista concatenada es: [-10, 0, 10, 30, 20, 50, 40, -100, 0, 10, 30, 20, 50, 40, 500, -1000, 0, 10, 30, 20, 50, 40, 1500]\n",
    "\n",
    "lista_sin_duplicados = []\n",
    "\n",
    "for elemento in listaConcatenada:\n",
    "    if elemento not in lista_sin_duplicados:\n",
    "        lista_sin_duplicados.append(elemento)\n",
    "\n",
    "print(\"Lista original:\", listaConcatenada)\n",
    "print(\"Lista sin duplicados:\", lista_sin_duplicados)"
   ]
  },
  {
   "cell_type": "markdown",
   "metadata": {},
   "source": [
    "## Ejercicio 5\n",
    "\n",
    "Crear una matriz `M` (o lista de listas) con las siguientes listas:\n",
    "\n",
    "`f1 = [1, 2, 3]`\n",
    "\n",
    "`f2 = [4, 5, 6]`\n",
    "\n",
    "`f3 = [7, 8, 9]`\n",
    "\n",
    "En la matriz resultante `M` efectuar las siguientes operaciones:\n",
    "\n",
    "- Suma todos los elementos de la matriz\n",
    "- Encuentra el valor máximo de la matriz\n",
    "- Encuentra el valor mínimo de la matriz\n",
    "- Transpón la matriz (es decir, intercambia filas y columnas)"
   ]
  },
  {
   "cell_type": "code",
   "execution_count": 7,
   "metadata": {},
   "outputs": [
    {
     "name": "stdout",
     "output_type": "stream",
     "text": [
      "la matriz M es:\n",
      "[[1, 2, 3], [4, 5, 6], [7, 8, 9]]\n",
      "o más fácil de ver:\n",
      "[1, 2, 3]\n",
      "[4, 5, 6]\n",
      "[7, 8, 9]\n",
      "\n",
      "********************************\n",
      "La suma de los elementos en la matriz es: 45\n",
      "El valor mínimo en la matriz es: 1\n",
      "El valor máximo en la matriz es: 9\n",
      "La matriz transpuesta es:\n",
      "[1, 4, 7]\n",
      "[2, 5, 8]\n",
      "[3, 6, 9]\n"
     ]
    }
   ],
   "source": [
    "# Listas (filas de la matriz)\n",
    "\n",
    "f1 = [1, 2, 3]\n",
    "\n",
    "f2 = [4, 5, 6]\n",
    "\n",
    "f3 = [7, 8, 9]\n",
    "\n",
    "# Matriz resultante\n",
    "\n",
    "M = [f1, f2, f3]\n",
    "print(\"la matriz M es:\")\n",
    "\n",
    "print(M)\n",
    "\n",
    "print(\"o más fácil de ver:\")\n",
    "\n",
    "for fila in M:\n",
    "    print(fila)\n",
    "\n",
    "print()\n",
    "print(\"********************************\")\n",
    "\n",
    "# Suma de elementos de la matriz\n",
    "\n",
    "suma_total = sum(sum(fila) for fila in M)\n",
    "print(\"La suma de los elementos en la matriz es:\", suma_total)\n",
    "\n",
    "# El valor máximo de la matriz\n",
    "\n",
    "mínimo = min(min(fila) for fila in M)\n",
    "print(\"El valor mínimo en la matriz es:\", mínimo)\n",
    "\n",
    "# El valor máximo de la matriz\n",
    "\n",
    "máximo = max(max(fila) for fila in M)\n",
    "print(\"El valor máximo en la matriz es:\", máximo)\n",
    "\n",
    "# Transponer la matriz\n",
    "\n",
    "transpuesta = [[fila[i] for fila in M] for i in range(len(M[0]))]\n",
    "print(\"La matriz transpuesta es:\")\n",
    "for fila in transpuesta:\n",
    "    print(fila)"
   ]
  }
 ],
 "metadata": {
  "kernelspec": {
   "display_name": "Python 3",
   "language": "python",
   "name": "python3"
  },
  "language_info": {
   "codemirror_mode": {
    "name": "ipython",
    "version": 3
   },
   "file_extension": ".py",
   "mimetype": "text/x-python",
   "name": "python",
   "nbconvert_exporter": "python",
   "pygments_lexer": "ipython3",
   "version": "3.12.2"
  }
 },
 "nbformat": 4,
 "nbformat_minor": 2
}
