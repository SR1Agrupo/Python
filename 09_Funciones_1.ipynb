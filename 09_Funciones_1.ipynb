{
 "cells": [
  {
   "cell_type": "markdown",
   "metadata": {},
   "source": [
    "# Introducción a las funciones\n",
    "\n",
    "> Una colección de ejercicios sencillos sobre funciones"
   ]
  },
  {
   "cell_type": "code",
   "execution_count": null,
   "metadata": {},
   "outputs": [],
   "source": [
    "# 0. EJEMPLO: Función suma de enteros\n",
    "\n",
    "a = int(input (\"introduce el primer número: \"))\n",
    "b = int(input (\"introduce el segundo número: \"))\n",
    "def suma(a, b):\n",
    "    return a + b\n",
    "print(suma(a, b))"
   ]
  },
  {
   "cell_type": "markdown",
   "metadata": {},
   "source": [
    "## 1. Función suma genérica\n",
    "\n",
    "Generad una función que devuelva la suma de dos números no necesariamente enteros"
   ]
  },
  {
   "cell_type": "code",
   "execution_count": null,
   "metadata": {},
   "outputs": [],
   "source": []
  },
  {
   "cell_type": "markdown",
   "metadata": {},
   "source": [
    "## 2. Función resta genérica\n",
    "\n",
    "Generad una función que devuelva la resta de dos números no necesariamente enteros\n"
   ]
  },
  {
   "cell_type": "code",
   "execution_count": null,
   "metadata": {},
   "outputs": [],
   "source": []
  },
  {
   "cell_type": "markdown",
   "metadata": {},
   "source": [
    "## 3. Función multiplicación genérica\n",
    "\n",
    "Generad una función que devuelva la multiplicación de dos números no necesariamente enteros"
   ]
  },
  {
   "cell_type": "code",
   "execution_count": null,
   "metadata": {},
   "outputs": [],
   "source": []
  },
  {
   "cell_type": "markdown",
   "metadata": {},
   "source": [
    "## 4. Función de división\n",
    "\n",
    "Generad una función que devuelva la división de dos números, y que imprima un mensaje de error cuando el divisor es `CERO`."
   ]
  },
  {
   "cell_type": "code",
   "execution_count": null,
   "metadata": {},
   "outputs": [],
   "source": []
  },
  {
   "cell_type": "markdown",
   "metadata": {},
   "source": [
    "## 5. Función de calculo del área de un triángulo\n",
    "\n",
    "Generad una función que devuelva el área de un triángulo, a partir de su base y su altura. Recordad:\n",
    "\n",
    "$$\n",
    "Área_T = \\frac{b \\cdot a}{2}\n",
    "$$ "
   ]
  },
  {
   "cell_type": "code",
   "execution_count": null,
   "metadata": {},
   "outputs": [],
   "source": []
  },
  {
   "cell_type": "markdown",
   "metadata": {},
   "source": [
    "## 6 Función para convertir Celsius a Fahrenheit\n",
    "\n",
    "Generad una función que pase una temperatura en grados Celsius a Fahrenheit. Recordad:\n",
    "\n",
    "$$\n",
    "T_F = T_C \\cdot \\frac{9}{5} + 32\n",
    "$$ "
   ]
  },
  {
   "cell_type": "code",
   "execution_count": null,
   "metadata": {},
   "outputs": [],
   "source": []
  },
  {
   "cell_type": "markdown",
   "metadata": {},
   "source": [
    "## 7 Función para calcular el factorial de un número\n",
    "\n",
    "Generad una función que devuelva el factorial de un número entero. Recordad:\n",
    "\n",
    "$$\n",
    "n! = n \\cdot (n-1) \\cdot (n-2) \\cdot... \\cdot 3 \\cdot 2 \\cdot 1\n",
    "$$\n",
    "\n",
    "Excepto si la entrada es 0, entonces:\n",
    "\n",
    "$$0! = 1$$\n"
   ]
  },
  {
   "cell_type": "code",
   "execution_count": null,
   "metadata": {},
   "outputs": [],
   "source": []
  },
  {
   "cell_type": "markdown",
   "metadata": {},
   "source": [
    "## 8 Implementación de la función de Fibonacci\n",
    "\n",
    "La función de Fibonacci se define de la siguiente manera:\n",
    "\n",
    "$$\n",
    "F(n<0) = -1 \\\\\n",
    "\n",
    "F(0) = 0 \\\\\n",
    "\n",
    "F(1) = 1 \\\\\n",
    "\n",
    "F(n) = F(n-1) + F(n-2) \\\\\n",
    "$$\n",
    "\n",
    "Calculad los valores de esta función para los enteros entre -2 y 5"
   ]
  },
  {
   "cell_type": "code",
   "execution_count": null,
   "metadata": {},
   "outputs": [],
   "source": []
  }
 ],
 "metadata": {
  "kernelspec": {
   "display_name": "Python 3",
   "language": "python",
   "name": "python3"
  },
  "language_info": {
   "codemirror_mode": {
    "name": "ipython",
    "version": 3
   },
   "file_extension": ".py",
   "mimetype": "text/x-python",
   "name": "python",
   "nbconvert_exporter": "python",
   "pygments_lexer": "ipython3",
   "version": "3.12.2"
  }
 },
 "nbformat": 4,
 "nbformat_minor": 2
}
