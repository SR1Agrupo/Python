{
 "cells": [
  {
   "cell_type": "markdown",
   "metadata": {},
   "source": [
    "# Ejercicio 1.\n",
    "\n",
    "Desarrollar un script que guarde en una variable el diccionario \n",
    "**{'Euro':'€', 'Dollar':'$', 'Yen':'¥'}**. \n",
    "       \n",
    "El script debe preguntar al usuario por una divisa y mostrar su símbolo o un mensaje de aviso si la divisa no está en el diccionario."
   ]
  },
  {
   "cell_type": "code",
   "execution_count": null,
   "metadata": {},
   "outputs": [],
   "source": []
  },
  {
   "cell_type": "markdown",
   "metadata": {},
   "source": [
    "# Ejercicio 2.\n",
    "\n",
    "Desarrollar un script que pregunte al usuario su nombre, edad, dirección y teléfono y lo guarde en un diccionario. \n",
    "\n",
    "Después debe mostrar por pantalla el mensaje **nombre** tiene **edad** años, vive en **dirección** y su número de teléfono es **teléfono**."
   ]
  },
  {
   "cell_type": "code",
   "execution_count": null,
   "metadata": {},
   "outputs": [],
   "source": []
  },
  {
   "cell_type": "markdown",
   "metadata": {},
   "source": [
    "# Ejercicio 3.\n",
    "\n",
    "Desarrollar un script que guarde en un diccionario los precios de las frutas de la tabla, pregunte al usuario por una fruta, un número de kilos y muestre por pantalla el precio de ese número de kilos de fruta. \n",
    "\n",
    "\n",
    "|Fruta   | Precio/Kg |\n",
    "|--------|-----------|\n",
    "|Plátano | 1.35€     |\n",
    "|Manzana | 0.80€     |\n",
    "|Pera    | 0.85€     |\n",
    "|Naranja | 0.70€     |\n",
    "       \n",
    "Si la fruta no está en el diccionario debe mostrar un mensaje informando de ello."
   ]
  },
  {
   "cell_type": "code",
   "execution_count": null,
   "metadata": {},
   "outputs": [],
   "source": []
  },
  {
   "cell_type": "markdown",
   "metadata": {},
   "source": [
    "# Ejercicio 4.\n",
    "\n",
    "Desarrollar un script que pregunte una fecha en formato: **dd/mm/aaaa** y muestre por pantalla la misma fecha en formato: **dd** de **mes** de **aaaa** donde **mes** es el nombre del mes."
   ]
  },
  {
   "cell_type": "code",
   "execution_count": null,
   "metadata": {},
   "outputs": [],
   "source": []
  },
  {
   "cell_type": "markdown",
   "metadata": {},
   "source": [
    "# Ejercicio 5.\n",
    "\n",
    "Desarrollar un script que almacene el diccionario con los créditos de las asignaturas de un curso **{'Matemáticas': 6, 'Física': 4, 'Química': 5}**.\n",
    "\n",
    "Después debe mostrar por pantalla los créditos de cada asignatura en el formato: **asignatura** tiene **créditos** créditos. \n",
    "       \n",
    "Al final debe mostrar también el número total de créditos del curso."
   ]
  },
  {
   "cell_type": "code",
   "execution_count": null,
   "metadata": {},
   "outputs": [],
   "source": []
  },
  {
   "cell_type": "markdown",
   "metadata": {},
   "source": [
    "# Ejercicio 6.\n",
    "\n",
    "Desarrollar un script que cree un diccionario vacío y lo vaya llenado con información sobre una persona, concretamente su nombre, edad y sexo. \n",
    "\n",
    "Dicha información se le irá pidiendo al usuario por teclado hasta que en el nombre escriba la palabra **“fin” (tanto en mayúsculas como en minúsculas)** al usuario. \n",
    "\n",
    "Cada vez que se añada un nuevo dato debe imprimirse el contenido del diccionario."
   ]
  },
  {
   "cell_type": "code",
   "execution_count": null,
   "metadata": {},
   "outputs": [],
   "source": []
  },
  {
   "cell_type": "markdown",
   "metadata": {},
   "source": [
    "# Ejercicio 7.\n",
    "\n",
    "Desarrollar un script que cree un diccionario simulando una cesta de la compra. El script debe preguntar el artículo y su precio y añadir la información al diccionario, hasta que el usuario decida terminar incluyendo en el nombre del artículo la palabra **“pagar” (en mayúscula o en minúscula)**.\n",
    "\n",
    "Después se debe mostrar por pantalla la lista de la compra y el coste total, con el siguiente formato:\n",
    "\n",
    "|Articulo   | Precio  |\n",
    "|-----------|---------|\n",
    "|Artículo1  | precio1 |\n",
    "|Artículo2  | precio2 |\n",
    "|...                  |\n",
    "|Total      | total   |"
   ]
  },
  {
   "cell_type": "code",
   "execution_count": null,
   "metadata": {},
   "outputs": [],
   "source": []
  },
  {
   "cell_type": "markdown",
   "metadata": {},
   "source": [
    "# Ejercicio 8.\n",
    "\n",
    "Desarrollar un script que cree un diccionario de traducción español-inglés. El script tendrá un diccionario con las palabras y sus traducciones. \n",
    "\n",
    "El usuario introducirá por teclado una frase en español y utilizará el diccionario para traducirla palabra a palabra. Si una palabra no está en el diccionario debe dejarla sin traducir."
   ]
  },
  {
   "cell_type": "code",
   "execution_count": null,
   "metadata": {},
   "outputs": [],
   "source": []
  },
  {
   "cell_type": "markdown",
   "metadata": {},
   "source": [
    "# Ejercicio 9.\n",
    "\n",
    "Con objeto de migrar a un programa escrito en Python la información de los clientes de una empresa se ha obtenido en la siguiente cadena de texto:\n",
    "\n",
    "**\"01234567L;LORSA;500;12.5\\n71476342J;SEPSL;0;8\\n63823376M;MIRSA;0;0\"**\n",
    "       \n",
    "Es decir, cada línea contiene la información del NIF, nombre, credito y el descuento que se le aplica. Las líneas se separan con el carácter de cambio de línea \\n.\n",
    "       \n",
    "Desarrollar un script que genere un diccionario con la información del directorio, donde cada elemento corresponda a un cliente y tenga por clave su NIF y por valor otro diccionario con el resto de la información del cliente. Los diccionarios con la información de cada cliente tendrán como claves los nombres de los campos y como valores la información de cada cliente correspondientes a los campos. Es decir, un diccionario como el siguiente\n",
    "       \n",
    "**{'01234567L': {'nombre': 'LORSA', 'credito’:500, ‘descuento’:12.5}, ….}**"
   ]
  },
  {
   "cell_type": "code",
   "execution_count": null,
   "metadata": {},
   "outputs": [],
   "source": []
  }
 ],
 "metadata": {
  "kernelspec": {
   "display_name": "Python 3",
   "language": "python",
   "name": "python3"
  },
  "language_info": {
   "codemirror_mode": {
    "name": "ipython",
    "version": 3
   },
   "file_extension": ".py",
   "mimetype": "text/x-python",
   "name": "python",
   "nbconvert_exporter": "python",
   "pygments_lexer": "ipython3",
   "version": "3.8.10"
  }
 },
 "nbformat": 4,
 "nbformat_minor": 4
}
