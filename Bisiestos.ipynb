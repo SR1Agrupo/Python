{
 "cells": [
  {
   "cell_type": "markdown",
   "metadata": {},
   "source": [
    "# Años bisiestos\n",
    "\n",
    "En el examen de la `2ª evaluación` tuvimos que enfrentarnos a la tarea de generar un script que evaluara si un año introducido por el usuario era o no bisiesto. El enunciado del problema explicaba las características numéricas de un año (un número entero) para ser considerado bisiesto:\n",
    "\n",
    "![Enunciado](img/Bisiestos_enunciado.png)"
   ]
  },
  {
   "cell_type": "markdown",
   "metadata": {},
   "source": [
    "## Parte 1\n",
    "\n",
    "Se pedía hacer un esquema que nos ayudara a tener claro el algoritmo y nos hiciera más fácil la codificación. Por ejemplo éste valdría:\n",
    "\n",
    "![Esquema](img/Bisiestos_esquema.png)"
   ]
  },
  {
   "cell_type": "markdown",
   "metadata": {},
   "source": [
    "## Parte 2\n",
    "\n",
    "Aquí se pedía codificar el algoritmo en papel (i.e. admitiendo cierta laxitud en la sintaxis).\n",
    "\n",
    "Por supuesto la opción más evidente podría ser utilizando sentencias `IF` anidadas, el resultado sería el siguiente:"
   ]
  },
  {
   "cell_type": "code",
   "execution_count": 14,
   "metadata": {},
   "outputs": [
    {
     "name": "stdout",
     "output_type": "stream",
     "text": [
      "2024 es un año bisiesto\n"
     ]
    }
   ],
   "source": [
    "# Pedir año a comprobar al usuario\n",
    "año = int(input(\"Introduce un año a ser comprobado\"))\n",
    "\n",
    "# Comprobación de si el año es bisiesto\n",
    "if año % 4 == 0:\n",
    "    if año % 100 == 0:\n",
    "        if año % 400 == 0:\n",
    "            print(f\"{año} es un año bisiesto\")\n",
    "        else:\n",
    "            print(f\"{año} no es un año bisiesto\")\n",
    "    else:\n",
    "        print(f\"{año} es un año bisiesto\")\n",
    "else:\n",
    "    print(f\"{año} no es un año bisiesto\")\n"
   ]
  },
  {
   "cell_type": "markdown",
   "metadata": {},
   "source": [
    "Pero en términos de sencillez y eficiencia podríamos usar `operadores booleanos`:"
   ]
  },
  {
   "cell_type": "code",
   "execution_count": 15,
   "metadata": {},
   "outputs": [
    {
     "name": "stdout",
     "output_type": "stream",
     "text": [
      "2024 es un año bisiesto\n"
     ]
    }
   ],
   "source": [
    "# Pedir año a comprobar al usuario\n",
    "año = int(input(\"Introduce un año a ser comprobado\"))\n",
    "\n",
    "# Comprobación de si el año es bisiesto\n",
    "if (año % 4 == 0 and año % 100 != 0) or (año % 400 == 0):\n",
    "    print(f\"{año} es un año bisiesto\")\n",
    "else:\n",
    "    print(f\"{año} no es un año bisiesto\")\n"
   ]
  }
 ],
 "metadata": {
  "kernelspec": {
   "display_name": "Python 3",
   "language": "python",
   "name": "python3"
  },
  "language_info": {
   "codemirror_mode": {
    "name": "ipython",
    "version": 3
   },
   "file_extension": ".py",
   "mimetype": "text/x-python",
   "name": "python",
   "nbconvert_exporter": "python",
   "pygments_lexer": "ipython3",
   "version": "3.12.0"
  }
 },
 "nbformat": 4,
 "nbformat_minor": 2
}
