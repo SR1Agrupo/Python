{
 "cells": [
  {
   "cell_type": "markdown",
   "metadata": {},
   "source": [
    "1. **Algoritmo de Planificación de Procesos:**\n",
    "\n",
    "   - **Ejemplo:** [`Round Robin`](https://es.wikipedia.org/wiki/Round-robin)\n",
    "   - **Descripción:** Asigna un tiempo fijo a cada proceso en un ciclo, garantizando equidad en la ejecución.\n",
    "\n",
    "2. **Algoritmo de Detección de Intrusiones (IDS):**\n",
    "\n",
    "   - **Ejemplo:** [`SNORT`](https://www.snort.org/)\n",
    "   - **Descripción:** Monitoriza la red en busca de patrones de comportamiento malicioso o intentos de intrusiones.\n",
    "\n",
    "3. **Algoritmo de Encriptación:**\n",
    "\n",
    "   - **Ejemplo:** [`AES (Advanced Encryption Standard)`](https://es.wikipedia.org/wiki/Advanced_Encryption_Standard)\n",
    "   - **Descripción:** Utilizado para encriptar datos y garantizar la confidencialidad.\n",
    "\n",
    "4. **Algoritmo de Compresión:**\n",
    "\n",
    "   - **Ejemplo:** [`DEFLATE`](https://es.wikipedia.org/wiki/DEFLATE)\n",
    "   - **Descripción:** Reduce el tamaño de archivos o datos para ahorrar espacio y mejorar la eficiencia de transferencia.\n",
    "\n",
    "5. **Algoritmo de Respaldo (Backup):**\n",
    "\n",
    "   - **Ejemplo:** [`Respaldo Incremental`](https://es.wikipedia.org/wiki/Copia_de_seguridad#Copia_de_seguridad_incremental)\n",
    "   - **Descripción:** Realiza copias de seguridad eficientes respaldando solo los cambios desde la última copia.\n",
    "\n",
    "6. **Algoritmo de Ruteo:**\n",
    "\n",
    "   - **Ejemplo:** [`OSPF (Open Shortest Path First)`](https://es.wikipedia.org/wiki/Open_Shortest_Path_First)\n",
    "   - **Descripción:** Determina rutas eficientes para el tráfico de red.\n",
    "\n",
    "7. **Algoritmo de Recuperación de Desastres:**\n",
    "\n",
    "   - **Ejemplo:** [`Plan de Recuperación ante Desastres (DRP)`](https://es.wikipedia.org/wiki/Plan_de_recuperaci%C3%B3n_ante_desastres)\n",
    "   - **Descripción:** Estrategias y planes para recuperarse después de eventos catastróficos.\n",
    "\n",
    "8. **Algoritmo de Monitoreo de Rendimiento:**\n",
    "   - **Ejemplo:** [`Nagios`](https://www.nagios.org/), [`Prometheus`](https://prometheus.io/)\n",
    "   - **Descripción:** Monitorean el rendimiento del sistema y alertan sobre posibles problemas.\n"
   ]
  }
 ],
 "metadata": {
  "kernelspec": {
   "display_name": "Python 3",
   "language": "python",
   "name": "python3"
  },
  "language_info": {
   "codemirror_mode": {
    "name": "ipython",
    "version": 3
   },
   "file_extension": ".py",
   "mimetype": "text/x-python",
   "name": "python",
   "nbconvert_exporter": "python",
   "pygments_lexer": "ipython3",
   "version": "3.12.0"
  }
 },
 "nbformat": 4,
 "nbformat_minor": 2
}
