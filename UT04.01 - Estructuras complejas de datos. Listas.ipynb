{
 "cells": [
  {
   "cell_type": "markdown",
   "metadata": {},
   "source": [
    "# Definición.\n",
    "\n",
    "Una lista es un conjunto de valores englobados dentro de corchetes y separados por comas. La ventaja de tener listas que es que este conjunto de valores está englobado y puede ser nombrado mediante **una única variable**.\n"
   ]
  },
  {
   "cell_type": "code",
   "execution_count": 1,
   "metadata": {},
   "outputs": [
    {
     "name": "stdout",
     "output_type": "stream",
     "text": [
      "[2, 5, 7, 10]\n"
     ]
    }
   ],
   "source": [
    "# Definimos una lista de números.\n",
    "numeros = [2, 5, 7, 10]\n",
    "print(numeros)"
   ]
  },
  {
   "cell_type": "markdown",
   "metadata": {},
   "source": [
    "Podemos definir una lista vacia de dos formas diferentes:\n",
    "\n",
    "* Mediante los dos corchetes **[]**.\n",
    "* Mediante la función **list()**."
   ]
  },
  {
   "cell_type": "code",
   "execution_count": 2,
   "metadata": {},
   "outputs": [
    {
     "name": "stdout",
     "output_type": "stream",
     "text": [
      "[]\n",
      "[]\n"
     ]
    }
   ],
   "source": [
    "lista1 = []\n",
    "print(lista1)\n",
    "lista2 = list()\n",
    "print(lista2)"
   ]
  },
  {
   "cell_type": "markdown",
   "metadata": {},
   "source": [
    "Los elementos de una lista no tienen porque ser homogeneos. Cada uno de ellos puede tener un tipo distinto."
   ]
  },
  {
   "cell_type": "code",
   "execution_count": 4,
   "metadata": {},
   "outputs": [
    {
     "name": "stdout",
     "output_type": "stream",
     "text": [
      "[1, 2.25, 'Carlos', True]\n"
     ]
    }
   ],
   "source": [
    "lista3 = [1, 2.25, \"Carlos\", True]\n",
    "print(lista3)"
   ]
  },
  {
   "cell_type": "markdown",
   "metadata": {},
   "source": [
    "# Acceso a los elementos de una lista.\n",
    "\n",
    "Se puede acceder a los elementos de una lista mediante la expresión \n",
    "**<pre>lista[indice]</pre>** \n",
    "El índice puede estar definido de dos formas.\n",
    "\n",
    "* Desde el comienzo de la lista. En este caso el primer elemento es el que tiene índice **cero**.\n",
    "* Desde el final de la lista. El último elemento es el índice **menos uno**."
   ]
  },
  {
   "cell_type": "code",
   "execution_count": 7,
   "metadata": {},
   "outputs": [
    {
     "name": "stdout",
     "output_type": "stream",
     "text": [
      "Pepe\n",
      "False\n",
      "3\n"
     ]
    }
   ],
   "source": [
    "lista = [3,6,2,\"Pepe\",False,2.5]\n",
    "print(lista[3])\n",
    "print(lista[-2])\n",
    "print(lista[0])"
   ]
  },
  {
   "cell_type": "markdown",
   "metadata": {},
   "source": [
    "# Rodajas de una lista.\n",
    "\n",
    "Podemos obtener una parte de una lista mediante la técnica de la rodaja."
   ]
  },
  {
   "cell_type": "code",
   "execution_count": 5,
   "metadata": {},
   "outputs": [
    {
     "name": "stdout",
     "output_type": "stream",
     "text": [
      "[3, 6, 2]\n",
      "[2, 'Pepe', False]\n"
     ]
    }
   ],
   "source": [
    "lista = [3,6,2,\"Pepe\",False,2.5]\n",
    "print(lista[:3])\n",
    "print(lista[2:-1])"
   ]
  },
  {
   "cell_type": "markdown",
   "metadata": {},
   "source": [
    "# Recorrido de una lista.\n",
    "\n",
    "Una lista es un **iterable**. Por tanto, se puede recorrer con un bucle for."
   ]
  },
  {
   "cell_type": "code",
   "execution_count": 4,
   "metadata": {},
   "outputs": [
    {
     "name": "stdout",
     "output_type": "stream",
     "text": [
      "3\n",
      "6\n",
      "2\n",
      "Pepe\n",
      "False\n",
      "2.5\n"
     ]
    }
   ],
   "source": [
    "lista = [3,6,2,\"Pepe\",False,2.5]\n",
    "for elemento in lista:\n",
    "    print(elemento)"
   ]
  },
  {
   "cell_type": "markdown",
   "metadata": {},
   "source": [
    "# List Comprehension.\n",
    "\n",
    "Permite crear lista de forma cómoda y sencilla. Esta técnica es importante cuando las listas son de gran tamaño."
   ]
  },
  {
   "cell_type": "code",
   "execution_count": 10,
   "metadata": {},
   "outputs": [
    {
     "name": "stdout",
     "output_type": "stream",
     "text": [
      "[0, 1, 2, 3, 4, 5, 6, 7, 8, 9, 10, 11, 12, 13, 14, 15, 16, 17, 18, 19, 20, 21, 22, 23, 24, 25, 26, 27, 28, 29, 30, 31, 32, 33, 34, 35, 36, 37, 38, 39, 40, 41, 42, 43, 44, 45, 46, 47, 48, 49, 50, 51, 52, 53, 54, 55, 56, 57, 58, 59, 60, 61, 62, 63, 64, 65, 66, 67, 68, 69, 70, 71, 72, 73, 74, 75, 76, 77, 78, 79, 80, 81, 82, 83, 84, 85, 86, 87, 88, 89, 90, 91, 92, 93, 94, 95, 96, 97, 98, 99]\n",
      "[252, 259, 266, 273, 280, 287, 294, 301, 308, 315, 322, 329, 336, 343, 350, 357, 364, 371, 378, 385, 392, 399, 406, 413, 420, 427, 434, 441, 448, 455, 462, 469, 476, 483, 490, 497, 504, 511, 518, 525, 532, 539, 546, 553, 560, 567, 574, 581, 588, 595, 602, 609, 616, 623]\n",
      "[3, 13, 23, 33, 43]\n",
      "[3, 13, 23, 33, 43]\n"
     ]
    }
   ],
   "source": [
    "# Números del 0 al 99.\n",
    "numeros = [num for num in range(100)]\n",
    "print(numeros)\n",
    "\n",
    "# Múltiplos de siete entre el 248 y 625.\n",
    "numeros = [num for num in range(248,626) \n",
    "           if num % 7 == 0]\n",
    "print(numeros)\n",
    "\n",
    "# Números del 1 al 50 que acaben en tres.\n",
    "numeros = [num for num in range(1,51) \n",
    "           if (num-3) % 10 == 0]\n",
    "print(numeros)\n",
    "# Otra posibilidad.\n",
    "numeros = [num for num in range(1,51) \n",
    "           if str(num)[-1] == \"3\"]\n",
    "print(numeros)"
   ]
  },
  {
   "cell_type": "markdown",
   "metadata": {},
   "source": [
    "# Listas multidimensionales.\n",
    "\n",
    "Una lista a su vez puede estar compuesta de listas y estas listas ser u conjunto listas y así sucesivamente.\n",
    "\n",
    "Por ejemplo dada la lista\n",
    "\n",
    "<pre>listas = [ [1,3,5], [2,5,6], [1,2] ]</pre>\n",
    "\n",
    "Esta formada por un conjunto de tres listas. Para acceder a los elementos de las listas componentes se indicaría el índice de la lista (n) y el índice del elemento (m) **ambos entre corchetes**."
   ]
  },
  {
   "cell_type": "code",
   "execution_count": 5,
   "metadata": {},
   "outputs": [
    {
     "name": "stdout",
     "output_type": "stream",
     "text": [
      "6\n"
     ]
    }
   ],
   "source": [
    "listas = [ [1,3,5], [2,5,6], [1,2] ]\n",
    "print(listas[1][2])"
   ]
  },
  {
   "cell_type": "markdown",
   "metadata": {},
   "source": [
    "# Funciones y métodos de listas.\n",
    "\n",
    "Para facilitar las operaciones y la manipulación de listas, Python3 tiene implementadas una serie de funciones y de métodos.\n",
    "\n",
    "La única función que subsiste en Python3 es la función **len(lista)**. Esta devuelve el **número de elementos de la lista**.\n",
    "\n",
    "Sin embargo, existen multitud de métodos para manejas listas."
   ]
  },
  {
   "cell_type": "markdown",
   "metadata": {},
   "source": [
    "**Ejercicio 1**. usando el método **lista.append()** realizar un script que solicite números enteros hasta que se introduzca un cero. Cuando pase eso se mostrará la suma y el producto de dichos números."
   ]
  },
  {
   "cell_type": "code",
   "execution_count": 6,
   "metadata": {},
   "outputs": [
    {
     "name": "stdout",
     "output_type": "stream",
     "text": [
      "Dame un número: 3\n",
      "Dame un número: 1\n",
      "Dame un número: 1\n",
      "Dame un número: 5\n",
      "Dame un número: 0\n",
      "La suma es 10.\n",
      "El producto es 15.\n"
     ]
    }
   ],
   "source": [
    "# Solicitamos los números hasta que se introduzca un cero.\n",
    "numeros = []\n",
    "numero = int(input(\"Dame un número: \"))\n",
    "# Mientras que se introduzca un cero.\n",
    "while numero!=0:\n",
    "    # Se introduce el número en la lista.\n",
    "    numeros.append(numero)\n",
    "    # Se solicita un nuevo número\n",
    "    numero = int(input(\"Dame un número: \"))\n",
    "# A continuación. sumamos los elementos de la lista.\n",
    "suma = 0\n",
    "producto = 1\n",
    "for numero in numeros:\n",
    "    suma = suma + numero\n",
    "    producto = producto * numero\n",
    "# Mostramos el resultado.\n",
    "print(f\"La suma es {suma}.\")\n",
    "print(f\"El producto es {producto}.\")"
   ]
  },
  {
   "cell_type": "markdown",
   "metadata": {},
   "source": [
    "**Ejercicio 2**. Desarrollar un script que solicite una primera lista con el nombre de **cinco personas**. \n",
    "\n",
    "Una vez solicitados dichos nombres, se solicitarán nombres hasta que se introduzca una cadena vacia (se pulsa enter en la casilla de entrada de datos) que constituirá la segunda lista.\n",
    "\n",
    "El script mostrará una relación de nombres que aparecen en la primera lista que están en la segunda lista.\n",
    "\n",
    "**Ejemplo**.\n",
    "<pre>\n",
    "lista1 = [\"Juan\", \"Antonio\", \"Maria\", \"Ana\", \"Eva\"]\n",
    "lista2 = [\"Alberto\", \"Juan\", \"Eva\"]\n",
    "\n",
    "resultado = [\"Juan\", \"Eva\"]\n",
    "</pre>"
   ]
  },
  {
   "cell_type": "code",
   "execution_count": 6,
   "metadata": {},
   "outputs": [
    {
     "name": "stdout",
     "output_type": "stream",
     "text": [
      "Nombre número 1: Carlos\n",
      "Nombre número 2: Pedro\n",
      "Nombre número 3: Luis\n",
      "Nombre número 4: Ana\n",
      "Nombre número 5: María\n",
      "['Carlos', 'Pedro', 'Luis', 'Ana', 'María']\n",
      "Dame nombre para lista dos (ENTER para finalizar): Alberto\n",
      "Dame nombre para lista dos (ENTER para finalizar): Lucas\n",
      "Dame nombre para lista dos (ENTER para finalizar): Eva\n",
      "Dame nombre para lista dos (ENTER para finalizar): Ana\n",
      "Dame nombre para lista dos (ENTER para finalizar): Pedro\n",
      "Dame nombre para lista dos (ENTER para finalizar): Jorge\n",
      "Dame nombre para lista dos (ENTER para finalizar): \n",
      "['Alberto', 'Lucas', 'Eva', 'Ana', 'Pedro', 'Jorge']\n",
      "El resultado es ['Ana', 'Pedro'].\n"
     ]
    }
   ],
   "source": [
    "# Inicializamos la primera lista.\n",
    "lista1 = []\n",
    "# Leemos cinco nombres y los añadimos a la primera lista.\n",
    "for indice in range(5):\n",
    "    nombre = input(f\"Nombre número {indice+1}: \")\n",
    "    lista1.append(nombre)\n",
    "print(lista1)\n",
    "# Inicializamos la segunda lista.\n",
    "lista2 = []\n",
    "# Introducimos nombres en la segunda lista hasta \n",
    "# que se introduzca una cadena vacia.\n",
    "nombre = input(\"Dame nombre para lista dos (ENTER para finalizar): \")\n",
    "while (nombre != \"\"):\n",
    "    lista2.append(nombre)\n",
    "    nombre = input(\"Dame nombre para lista dos (ENTER para finalizar): \")\n",
    "print(lista2)\n",
    "# Comprobamos que elementos de la segunda lista están en la primera.\n",
    "# Iniciamos la lista resultado.\n",
    "resultado = []\n",
    "# Para cada uno de los elementos de la lista2.\n",
    "for nombre in lista2:\n",
    "    # Comprobamos si esta en la lista1.\n",
    "    if nombre in lista1:\n",
    "        resultado.append(nombre)\n",
    "# Mostramos el resultado.\n",
    "print(f\"El resultado es {resultado}.\")"
   ]
  },
  {
   "cell_type": "markdown",
   "metadata": {},
   "source": [
    "**Ejercicio 3.**. Dada una lista con los números pares del uno al veinte, solicitar dos números y comprobar si la suma de estos números está dentro de esta lista."
   ]
  },
  {
   "cell_type": "code",
   "execution_count": 12,
   "metadata": {},
   "outputs": [
    {
     "name": "stdout",
     "output_type": "stream",
     "text": [
      "Dame el primer número: 5\n",
      "Dame el segundo número: 7\n",
      "La suma de 5 y 7 está en la lista.\n"
     ]
    }
   ],
   "source": [
    "# Generamos la lista de números pares del uno al veinte.\n",
    "lista = [numero for numero in range(1,21)\n",
    "                if numero % 2 == 0]\n",
    "# Solicitamos dos números-\n",
    "numero1 = int(input(\"Dame el primer número: \"))\n",
    "numero2 = int(input(\"Dame el segundo número: \"))\n",
    "resultado = numero1 + numero2\n",
    "# Si la suma de estos números está en la lista.\n",
    "if resultado in lista:\n",
    "    print(f\"La suma de {numero1} y {numero2} está en la lista.\")\n",
    "# En caso contrario.\n",
    "else:\n",
    "    print(f\"La suma de {numero1} y {numero2} no está en la lista.\")\n",
    "\n"
   ]
  },
  {
   "cell_type": "markdown",
   "metadata": {},
   "source": [
    "**Ejercicio 4**. Se desea almacenar las calificaciones de un módulo de la siguiente forma:\n",
    "\n",
    "* La lista calificaciones estará formada por listas que contienen la información de cada uno de los alumnos.\n",
    "\n",
    "* Cada una de esas listas tendrá como componentes el nombre del alumno y las distintas calificaciones que ha obtenido.\n",
    "\n",
    "Un ejemplo sería el siguiente:\n",
    "\n",
    "<pre>\n",
    "    calificaciones = [\n",
    "                        [\"Pepito\", 5.70, 6.25],\n",
    "                        [\"Juanito\", 6.80, 3.25],\n",
    "                        [\"Mari Puri\", 3.25, 8.20]\n",
    "                     ]\n",
    "</pre>\n",
    "\n",
    "Desarrollar un script que solicite por teclado estos datos. Para ello, solicitará alumnos hasta que el nombre de un alumno sea **\"FIN\"**."
   ]
  },
  {
   "cell_type": "code",
   "execution_count": 14,
   "metadata": {},
   "outputs": [
    {
     "name": "stdout",
     "output_type": "stream",
     "text": [
      "Dame el nombre: Pepito\n",
      "Dame la primera nota: 5.70\n",
      "Dame la segunda nota: 3.25\n",
      "Dame el nombre: Juanito\n",
      "Dame la primera nota: 6.80\n",
      "Dame la segunda nota: 3.25\n",
      "Dame el nombre: Mari Puri\n",
      "Dame la primera nota: 3.25\n",
      "Dame la segunda nota: 8.20\n",
      "Dame el nombre: FIN\n"
     ]
    },
    {
     "data": {
      "text/plain": [
       "[['Pepito', 5.7, 3.25], ['Juanito', 6.8, 3.25], ['Mari Puri', 3.25, 8.2]]"
      ]
     },
     "execution_count": 14,
     "metadata": {},
     "output_type": "execute_result"
    }
   ],
   "source": [
    "# Inicializamos calificaciones.\n",
    "calificaciones = []\n",
    "# Solicita el primer nombre.\n",
    "nombre = input(\"Dame el nombre: \")\n",
    "# Mientras que el nombre no sea \"FIN\"\n",
    "while nombre != \"FIN\":\n",
    "    # Inicializamos la lista alumno.\n",
    "    alumno = []\n",
    "    # Solicitamos las notas e introducimos los datos en alumno.\n",
    "    nota1 = float(input(\"Dame la primera nota: \"))\n",
    "    nota2 = float(input(\"Dame la segunda nota: \"))\n",
    "    alumno.extend([nombre,nota1,nota2])\n",
    "    # Introducimos alumno en calificaciones.\n",
    "    calificaciones.append(alumno)\n",
    "    # Solicitamos el nombre del siguiente alumno.\n",
    "    nombre = input(\"Dame el nombre: \")\n",
    "# Mostramos la lista calificaciones.\n",
    "calificaciones"
   ]
  },
  {
   "cell_type": "markdown",
   "metadata": {},
   "source": [
    "**Ejercicio 5**. Modificar el ejercicio anterior para que cada uno de los alumnos pueda tener un número indefinido de notas. Para ello, se solicitarán notas de alumnos mientras que no se introduzca un -1. "
   ]
  },
  {
   "cell_type": "code",
   "execution_count": 15,
   "metadata": {},
   "outputs": [
    {
     "name": "stdout",
     "output_type": "stream",
     "text": [
      "Dame el nombre (FIN para finalizar el programa): Pepito\n",
      "Dame una nota (-1 para finalizar las notas): 3.25\n",
      "Dame una nota (-1 para finalizar las notas): 5.75\n",
      "Dame una nota (-1 para finalizar las notas): 1.25\n",
      "Dame una nota (-1 para finalizar las notas): 2\n",
      "Dame una nota (-1 para finalizar las notas): -1\n",
      "Dame el nombre: Juanito\n",
      "Dame una nota (-1 para finalizar las notas): 6\n",
      "Dame una nota (-1 para finalizar las notas): 4\n",
      "Dame una nota (-1 para finalizar las notas): -1\n",
      "Dame el nombre: FIN\n"
     ]
    },
    {
     "data": {
      "text/plain": [
       "[['Pepito', 3.25, 5.75, 1.25, 2.0], ['Juanito', 6.0, 4.0]]"
      ]
     },
     "execution_count": 15,
     "metadata": {},
     "output_type": "execute_result"
    }
   ],
   "source": [
    "# Inicializamos calificaciones.\n",
    "calificaciones = []\n",
    "# Solicita el primer nombre.\n",
    "nombre = input(\"Dame el nombre (FIN para finalizar el programa): \")\n",
    "# Mientras que el nombre no sea \"FIN\"\n",
    "while nombre != \"FIN\":\n",
    "    # Inicializamos la lista alumno.\n",
    "    alumno = []\n",
    "    # Añadimos el nombre a alumno.\n",
    "    alumno.append(nombre)\n",
    "    # Solicitamos la primera nota.\n",
    "    nota = float(input(\"Dame una nota (-1 para finalizar las notas): \"))\n",
    "    # Mientras que no se introduzca un -1.\n",
    "    while nota != -1:\n",
    "        # Añade la nota al alumnno\n",
    "        alumno.append(nota)\n",
    "        # Pide una nueva nota.\n",
    "        nota = float(input(\"Dame una nota (-1 para finalizar las notas): \"))\n",
    "    # Introducimos alumno en calificaciones.\n",
    "    calificaciones.append(alumno)\n",
    "    # Solicitamos el nombre del siguiente alumno.\n",
    "    nombre = input(\"Dame el nombre: \")\n",
    "# Mostramos la lista calificaciones.\n",
    "calificaciones"
   ]
  },
  {
   "cell_type": "markdown",
   "metadata": {},
   "source": [
    "**Ejercicio 6**. En base al Ejercicio 4, desarrollar un script que solicite para una serie de alumnos su nombre y tres notas. una vez hecho eso, el script debe mostrar un listado con el nombre y la media de las notas con **dos cifras decimales**."
   ]
  },
  {
   "cell_type": "code",
   "execution_count": 3,
   "metadata": {},
   "outputs": [
    {
     "name": "stdout",
     "output_type": "stream",
     "text": [
      "Nombre del alumno: Pepito\n",
      "Nota 1: 8.25\n",
      "Nota 2: 3.50\n",
      "Nota 3: 5.75\n",
      "Nombre del alumno: Manoli\n",
      "Nota 1: 4.75\n",
      "Nota 2: 6.60\n",
      "Nota 3: 7.25\n",
      "Nombre del alumno: Anita\n",
      "Nota 1: 5.75\n",
      "Nota 2: 6.40\n",
      "Nota 3: 3.25\n",
      "Nombre del alumno: Juanito\n",
      "Nota 1: 6.45\n",
      "Nota 2: 2.78\n",
      "Nota 3: 2.50\n",
      "Nombre del alumno: FIN\n",
      "Pepito                        \t5.83\n",
      "Manoli                        \t6.20\n",
      "Anita                         \t5.13\n",
      "Juanito                       \t3.91\n"
     ]
    }
   ],
   "source": [
    "# Inicializamos la lista de alumnos.\n",
    "alumnos = []\n",
    "# Solicitamos el primer nombre.\n",
    "nombre = input(\"Nombre del alumno: \")\n",
    "# Mientras que el nombre no sea \"FIN\".\n",
    "while nombre != \"FIN\":\n",
    "    # inicializamos la lista alumno.\n",
    "    alumno = []\n",
    "    # Introducimos en alumno el nombre.\n",
    "    alumno.append(nombre)\n",
    "    # Solicitamos TRES notas y las introducimos en alumno.\n",
    "    for indice in range(3):\n",
    "        nota = float(input(f\"Nota {indice + 1}: \"))\n",
    "        alumno.append(nota)\n",
    "    # Introducimos el alumno en la lista de alumnos.\n",
    "    alumnos.append(alumno)\n",
    "    # Solicitamos el nombre del siguiente alumno.\n",
    "    nombre = input(\"Nombre del alumno: \")\n",
    "    \n",
    "# Para cada uno de los alumnos.\n",
    "for alumno in alumnos:\n",
    "    # Obtenemos su nombre\n",
    "    nombre = alumno[0]\n",
    "    # Obtenemos sus notas. Lo hacemos con una rodaja de alumno.\n",
    "    notas = alumno[1:]\n",
    "    # Inicializamos la suma a cero.\n",
    "    suma = 0\n",
    "    # Para cada una de las notas.\n",
    "    for nota in notas:\n",
    "        # La acumulamos en suma.\n",
    "        suma = suma + nota\n",
    "    # Obtenemos la media media = suma/longitud(notas)\n",
    "    media = suma/len(notas)\n",
    "    # Mostramos por pantalla los resultados.\n",
    "    print(f\"{nombre:30}\\t{media:.2f}\")"
   ]
  },
  {
   "cell_type": "markdown",
   "metadata": {},
   "source": [
    "# Campos separados por comas (CSV).\n",
    "\n",
    "El formato consiste en alamacenar tablas de datos de tal forma que cada uno de los datos de un registro está separado de los demás mediante comas.\n",
    "\n",
    "**Ejemplo**: Para alamcenar los datos de un alumno podriamos hacerlo con la cadena de caracteres:\n",
    "\n",
    "    Alejandro Gomez, 23, 678248745\n",
    "    Maria del Carmen Perez, 22, 671569845\n",
    "    \n",
    "Cada uno de los alumnos está almacenado en un linea y cada uno de los campos se separa de los demás por una coma.\n",
    "\n",
    "Para tratar el formato .csv, Python tiene dos métodos importantes: **split** y **join**.\n",
    "\n",
    "El método split permite almacenar en una lista las distintas informaciones almacenadas en formato .csv. La sintaxis es la siguiente: \n",
    "\n",
    "**lista = cadena.split(caracter)**\n",
    "\n",
    "siendo lista la lista donde se almacenan los distintos datos y caracter el caracter de separación entre campos. Esto se denomina tokenización, porque cada uno de los campos se denomina token.\n",
    "\n",
    "**Ejercicio 7**. Desarrollar un script que solicite una cadena con un conjunto de números decimales separados por comas. El script debe calcular la media y mostrar el resultado con tres decimales."
   ]
  },
  {
   "cell_type": "code",
   "execution_count": 1,
   "metadata": {},
   "outputs": [
    {
     "name": "stdout",
     "output_type": "stream",
     "text": [
      "Dame la cadena con los datos: 5.25,6.87,7.25\n",
      "La media es 6.457.\n"
     ]
    }
   ],
   "source": [
    "# Solicitamos los datos.\n",
    "cadena = input(\"Dame la cadena con los datos: \")\n",
    "# Partimos los datos.\n",
    "lista = cadena.split(\",\")\n",
    "# Iniciamos la suma.\n",
    "suma = 0\n",
    "# Para cada una de las notas.\n",
    "for numero in lista:\n",
    "    # La convertimos en número y la sumamos.\n",
    "    numero = float(numero)\n",
    "    suma = suma + numero\n",
    "# Calculamos la media.\n",
    "media = suma/len(lista)\n",
    "# Mostramos el resultado.\n",
    "print(f\"La media es {media:.3f}.\")"
   ]
  },
  {
   "cell_type": "markdown",
   "metadata": {},
   "source": [
    "**Ejercicio 8**. Desarrollar un script que solicite por teclado un texto y muestre cuantas palabras tiene dicho texto."
   ]
  },
  {
   "cell_type": "code",
   "execution_count": 18,
   "metadata": {},
   "outputs": [
    {
     "name": "stdout",
     "output_type": "stream",
     "text": [
      "Introduce un texto:     Esta    es    una    prueba     \n",
      "['Esta', 'es', 'una', 'prueba']\n",
      "El texto tiene 4 palabras.\n"
     ]
    }
   ],
   "source": [
    "# Solicitamos la cadena.\n",
    "texto = input(\"Introduce un texto: \")\n",
    "# Obtenemos la lista de palabras.\n",
    "palabras = texto.split()\n",
    "# Mostramos un mensaje con el número de palabras.\n",
    "print(f\"El texto tiene {len(palabras)} palabras.\")"
   ]
  },
  {
   "cell_type": "markdown",
   "metadata": {},
   "source": [
    "**Ejercicio 9**. Basandose en el ejercicio anterior mostrar la palabra de mayor longitud."
   ]
  },
  {
   "cell_type": "code",
   "execution_count": 20,
   "metadata": {},
   "outputs": [
    {
     "name": "stdout",
     "output_type": "stream",
     "text": [
      "Introduce un texto: Esta es una dicotomia policial\n",
      "La palabra mas larga es dicotomia.\n"
     ]
    }
   ],
   "source": [
    "# Solicitamos el texto.\n",
    "texto = input(\"Introduce un texto: \")\n",
    "# Obtenemos la lista de palabras.\n",
    "palabras = texto.split()\n",
    "# Iniciamos la palabra mas a cadena vacia.\n",
    "palabrasMasGrande = \"\"\n",
    "# Para cada una de las palabras.\n",
    "for palabra in palabras:\n",
    "    # Si la longitud de la palabra es mayor que la longitud de la palabra\n",
    "    # encontrada hasta el momento se sustituye.\n",
    "    if len(palabra)>len(palabrasMasGrande):\n",
    "        palabrasMasGrande = palabra\n",
    "# Mostramos la longitud máxima.\n",
    "print(f\"La palabra mas larga es {palabrasMasGrande}.\")"
   ]
  },
  {
   "cell_type": "code",
   "execution_count": null,
   "metadata": {},
   "outputs": [],
   "source": []
  },
  {
   "cell_type": "code",
   "execution_count": null,
   "metadata": {},
   "outputs": [],
   "source": []
  }
 ],
 "metadata": {
  "kernelspec": {
   "display_name": "Python 3",
   "language": "python",
   "name": "python3"
  },
  "language_info": {
   "codemirror_mode": {
    "name": "ipython",
    "version": 3
   },
   "file_extension": ".py",
   "mimetype": "text/x-python",
   "name": "python",
   "nbconvert_exporter": "python",
   "pygments_lexer": "ipython3",
   "version": "3.12.3"
  }
 },
 "nbformat": 4,
 "nbformat_minor": 4
}
