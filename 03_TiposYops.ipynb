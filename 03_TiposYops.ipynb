{
 "cells": [
  {
   "cell_type": "markdown",
   "metadata": {},
   "source": [
    "## Tipos y operadores"
   ]
  },
  {
   "cell_type": "code",
   "execution_count": 1,
   "metadata": {},
   "outputs": [
    {
     "name": "stdout",
     "output_type": "stream",
     "text": [
      "Tipo de objeto para 10: <class 'int'>\n",
      "Tipo de objeto para 3.14: <class 'float'>\n",
      "Tipo de objeto para (2+3j): <class 'complex'>\n",
      "Tipo de objeto para \"Hola, mundo\": <class 'str'>\n",
      "Tipo de objeto para [1, 2, 3, 4]: <class 'list'>\n",
      "Tipo de objeto para (1, 2, 3, 4): <class 'tuple'>\n",
      "Tipo de objeto para {1, 2, 3, 4}: <class 'set'>\n",
      "Tipo de objeto para {'clave': 'valor'}: <class 'dict'>\n"
     ]
    }
   ],
   "source": [
    "\n",
    "# Números enteros\n",
    "entero = 10\n",
    "print(f'Tipo de objeto para {entero}: {type(entero)}')\n",
    "\n",
    "# Números de punto flotante\n",
    "flotante = 3.14\n",
    "print(f'Tipo de objeto para {flotante}: {type(flotante)}')\n",
    "\n",
    "# Números complejos\n",
    "complejo = 2 + 3j\n",
    "print(f'Tipo de objeto para {complejo}: {type(complejo)}')\n",
    "\n",
    "# Cadenas de texto\n",
    "cadena = \"Hola, mundo\"\n",
    "print(f'Tipo de objeto para \"{cadena}\": {type(cadena)}')\n",
    "\n",
    "# Listas\n",
    "lista = [1, 2, 3, 4]\n",
    "print(f'Tipo de objeto para {lista}: {type(lista)}')\n",
    "\n",
    "# Tuplas\n",
    "tupla = (1, 2, 3, 4)\n",
    "print(f'Tipo de objeto para {tupla}: {type(tupla)}')\n",
    "\n",
    "# Conjuntos\n",
    "conjunto = {1, 2, 3, 4}\n",
    "print(f'Tipo de objeto para {conjunto}: {type(conjunto)}')\n",
    "\n",
    "# Diccionarios\n",
    "diccionario = {'clave': 'valor'}\n",
    "print(f'Tipo de objeto para {diccionario}: {type(diccionario)}')\n"
   ]
  },
  {
   "cell_type": "markdown",
   "metadata": {},
   "source": [
    "### Usando un bucle\n",
    "\n",
    "La lógica en la programación (en este caso un bucle `For`: [Python For Loops - W3schools](https://www.w3schools.com/python/python_for_loops.asp), [More Control Flow Tools - Python Docs](https://docs.python.org/3/tutorial/controlflow.html)), permite ahorrar líneas de código, la economía de código suele ser un factor positivo, especialmente para legibilidad y mantenimiento."
   ]
  },
  {
   "cell_type": "code",
   "execution_count": 2,
   "metadata": {},
   "outputs": [
    {
     "name": "stdout",
     "output_type": "stream",
     "text": [
      "Tipo de objeto para 10: <class 'int'>\n",
      "Tipo de objeto para 3.14: <class 'float'>\n",
      "Tipo de objeto para (2+3j): <class 'complex'>\n",
      "Tipo de objeto para Hola, mundo: <class 'str'>\n",
      "Tipo de objeto para [1, 2, 3, 4]: <class 'list'>\n",
      "Tipo de objeto para (1, 2, 3, 4): <class 'tuple'>\n",
      "Tipo de objeto para {1, 2, 3, 4}: <class 'set'>\n",
      "Tipo de objeto para {'clave': 'valor'}: <class 'dict'>\n"
     ]
    }
   ],
   "source": [
    "# Listar tipos de objeto en Python con un bucle\n",
    "\n",
    "# Definir una lista de variables\n",
    "\n",
    "variables = [10, 3.14, 2 + 3j, \"Hola, mundo\", [1, 2, 3, 4], (1, 2, 3, 4), {1, 2, 3, 4}, {'clave': 'valor'}]\n",
    "\n",
    "# Iterar a través de la lista y mostrar los tipos de objeto\n",
    "\n",
    "for variable in variables:\n",
    "    print(f'Tipo de objeto para {variable}: {type(variable)}')\n"
   ]
  },
  {
   "cell_type": "markdown",
   "metadata": {},
   "source": [
    "### Operadores"
   ]
  },
  {
   "cell_type": "markdown",
   "metadata": {},
   "source": [
    "### Listar tipos de objeto y nombres de operadores\n",
    "\n",
    "Los operadores más evidentes son los básicos en matemáticas. Aquí se utiliza un *diccionario* (`nombres_operadores`) para enlazar cada operador con su nombre común.\n",
    "\n",
    "También se utiliza [Python `If ... Else` - W3schools](https://www.w3schools.com/python/python_conditions.asp)"
   ]
  },
  {
   "cell_type": "code",
   "execution_count": 3,
   "metadata": {},
   "outputs": [
    {
     "name": "stdout",
     "output_type": "stream",
     "text": [
      "Tipo de objeto para 10: int\n",
      "Tipo de objeto para 3.14: float\n",
      "Tipo de objeto para (2+3j): complex\n",
      "Tipo de objeto para Hola, mundo: str\n",
      "Tipo de objeto para +: str (Suma)\n",
      "Tipo de objeto para -: str (Resta)\n",
      "Tipo de objeto para *: str (Multiplicación)\n",
      "Tipo de objeto para /: str (División)\n"
     ]
    }
   ],
   "source": [
    "# Definir una lista de variables y de los operadores principales\n",
    "\n",
    "elementos = [10, 3.14, 2 + 3j, \"Hola, mundo\", [1, 2, 3, 4], (1, 2, 3, 4), {1, 2, 3, 4}, {'clave': 'valor'}, '+', '-', '*', '/']\n",
    "\n",
    "# Diccionario de operadores y sus nombres\n",
    "nombres_operadores = {'+': 'Suma', '-': 'Resta', '*': 'Multiplicación', '/': 'División'}\n",
    "\n",
    "# Iterar a través de la lista y mostrar los tipos de objeto o el nombre del operador\n",
    "for elemento in elementos:\n",
    "    if isinstance(elemento, (int, float, complex, str)):\n",
    "        tipo_objeto = type(elemento).__name__\n",
    "        nombre_operador = nombres_operadores.get(elemento, None)\n",
    "        if nombre_operador is not None:\n",
    "            print(f'Tipo de objeto para {elemento}: {tipo_objeto} ({nombre_operador})')\n",
    "        else:\n",
    "            print(f'Tipo de objeto para {elemento}: {tipo_objeto}')\n",
    "    else:\n",
    "        continue\n"
   ]
  },
  {
   "cell_type": "markdown",
   "metadata": {},
   "source": [
    "Para *agrandar* la lista de operadores incluyendo otros operadores importantes, no hace falta más que agrandar el diccionario `nombres_operadores`."
   ]
  },
  {
   "cell_type": "code",
   "execution_count": 4,
   "metadata": {},
   "outputs": [
    {
     "name": "stdout",
     "output_type": "stream",
     "text": [
      "Tipo de objeto para 10: int\n",
      "Tipo de objeto para 3.14: float\n",
      "Tipo de objeto para (2+3j): complex\n",
      "Tipo de objeto para Hola, mundo: str\n",
      "Tipo de objeto para +: str (Suma)\n",
      "Tipo de objeto para -: str (Resta)\n",
      "Tipo de objeto para *: str (Multiplicación)\n",
      "Tipo de objeto para /: str (División)\n",
      "Tipo de objeto para **: str (Exponenciación)\n",
      "Tipo de objeto para %: str (Módulo)\n",
      "Tipo de objeto para //: str (División entera)\n",
      "Tipo de objeto para ==: str (Igual a)\n",
      "Tipo de objeto para !=: str (Diferente de)\n",
      "Tipo de objeto para <: str (Menor que)\n",
      "Tipo de objeto para >: str (Mayor que)\n",
      "Tipo de objeto para <=: str (Menor o igual que)\n",
      "Tipo de objeto para >=: str (Mayor o igual que)\n",
      "Tipo de objeto para and: str (Operador lógico AND)\n",
      "Tipo de objeto para or: str (Operador lógico OR)\n",
      "Tipo de objeto para not: str (Operador lógico NOT)\n"
     ]
    }
   ],
   "source": [
    "# Listar tipos de objeto y nombres de operadores en Python con un bucle for\n",
    "\n",
    "# Definir una lista de variables y operadores\n",
    "elementos = [10, 3.14, 2 + 3j, \"Hola, mundo\", [1, 2, 3, 4], (1, 2, 3, 4), {1, 2, 3, 4}, {'clave': 'valor'}, '+', '-', '*', '/', '**', '%', '//', '==', '!=', '<', '>', '<=', '>=', 'and', 'or', 'not']\n",
    "\n",
    "# Diccionario de operadores y sus nombres\n",
    "nombres_operadores = {\n",
    "    '+': 'Suma', '-': 'Resta', '*': 'Multiplicación', '/': 'División',\n",
    "    '**': 'Exponenciación', '%': 'Módulo', '//': 'División entera',\n",
    "    '==': 'Igual a', '!=': 'Diferente de', '<': 'Menor que', '>': 'Mayor que',\n",
    "    '<=': 'Menor o igual que', '>=': 'Mayor o igual que',\n",
    "    'and': 'Operador lógico AND', 'or': 'Operador lógico OR', 'not': 'Operador lógico NOT'\n",
    "}\n",
    "\n",
    "# Iterar a través de la lista y mostrar los tipos de objeto o el nombre del operador\n",
    "for elemento in elementos:\n",
    "    if isinstance(elemento, (int, float, complex, str)):\n",
    "        tipo_objeto = type(elemento).__name__\n",
    "        nombre_operador = nombres_operadores.get(elemento, None)\n",
    "        if nombre_operador is not None:\n",
    "            print(f'Tipo de objeto para {elemento}: {tipo_objeto} ({nombre_operador})')\n",
    "        else:\n",
    "            print(f'Tipo de objeto para {elemento}: {tipo_objeto}')\n",
    "    else:\n",
    "        continue\n"
   ]
  }
 ],
 "metadata": {
  "kernelspec": {
   "display_name": ".venv",
   "language": "python",
   "name": "python3"
  },
  "language_info": {
   "codemirror_mode": {
    "name": "ipython",
    "version": 3
   },
   "file_extension": ".py",
   "mimetype": "text/x-python",
   "name": "python",
   "nbconvert_exporter": "python",
   "pygments_lexer": "ipython3",
   "version": "3.12.0"
  }
 },
 "nbformat": 4,
 "nbformat_minor": 2
}
