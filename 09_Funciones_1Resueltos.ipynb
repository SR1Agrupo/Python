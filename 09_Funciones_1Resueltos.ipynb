{
 "cells": [
  {
   "cell_type": "markdown",
   "metadata": {},
   "source": [
    "# Introducción a las funciones\n",
    "\n",
    "> Una colección de ejercicios sencillos sobre funciones"
   ]
  },
  {
   "cell_type": "code",
   "execution_count": 1,
   "metadata": {},
   "outputs": [
    {
     "name": "stdout",
     "output_type": "stream",
     "text": [
      "11\n"
     ]
    }
   ],
   "source": [
    "# 0. EJEMPLO: Función suma de enteros\n",
    "\n",
    "a = int(input (\"introduce el primer número: \"))\n",
    "b = int(input (\"introduce el segundo número: \"))\n",
    "def suma(a, b):\n",
    "    return a + b\n",
    "print(suma(a, b))"
   ]
  },
  {
   "cell_type": "markdown",
   "metadata": {},
   "source": [
    "## 1. Función suma genérica\n",
    "\n",
    "Generad una función que devuelva la suma de dos números no necesariamente enteros"
   ]
  },
  {
   "cell_type": "code",
   "execution_count": 2,
   "metadata": {},
   "outputs": [
    {
     "name": "stdout",
     "output_type": "stream",
     "text": [
      "274.28\n"
     ]
    }
   ],
   "source": [
    "a = float(input (\"introduce el primer número: \"))\n",
    "b = float(input (\"introduce el segundo número: \"))\n",
    "def suma(a, b):\n",
    "    return a + b\n",
    "print(suma(a, b))"
   ]
  },
  {
   "cell_type": "markdown",
   "metadata": {},
   "source": [
    "## 2. Función resta genérica\n",
    "\n",
    "Generad una función que devuelva la resta de dos números no necesariamente enteros\n"
   ]
  },
  {
   "cell_type": "code",
   "execution_count": 3,
   "metadata": {},
   "outputs": [
    {
     "name": "stdout",
     "output_type": "stream",
     "text": [
      "334.58494090000005\n"
     ]
    }
   ],
   "source": [
    "a = float(input (\"introduce el primer número: \"))\n",
    "b = float(input (\"introduce el segundo número: \"))\n",
    "def suma(a, b):\n",
    "    return a - b\n",
    "print(suma(a, b))"
   ]
  },
  {
   "cell_type": "markdown",
   "metadata": {},
   "source": [
    "## 3. Función multiplicación genérica\n",
    "\n",
    "Generad una función que devuelva la multiplicación de dos números no necesariamente enteros"
   ]
  },
  {
   "cell_type": "code",
   "execution_count": 4,
   "metadata": {},
   "outputs": [
    {
     "name": "stdout",
     "output_type": "stream",
     "text": [
      "409271.43\n"
     ]
    }
   ],
   "source": [
    "a = float(input (\"introduce el primer número: \"))\n",
    "b = float(input (\"introduce el segundo número: \"))\n",
    "def multiplicacion(a, b):\n",
    "    return a * b\n",
    "print(multiplicacion(a, b))"
   ]
  },
  {
   "cell_type": "markdown",
   "metadata": {},
   "source": [
    "## 4. Función de división\n",
    "\n",
    "Generad una función que devuelva la división de dos números, y que imprima un mensaje de error cuando el divisor es `CERO`."
   ]
  },
  {
   "cell_type": "code",
   "execution_count": 5,
   "metadata": {},
   "outputs": [
    {
     "name": "stdout",
     "output_type": "stream",
     "text": [
      "4.171633614220264\n"
     ]
    }
   ],
   "source": [
    "a = float(input (\"introduce el primer número: \"))\n",
    "b = float(input (\"introduce el segundo número: \"))\n",
    "def division(a, b):\n",
    "    if b == 0:\n",
    "        print(\"Error: división por cero\")\n",
    "    else:\n",
    "        return a / b\n",
    "print(division(a, b))"
   ]
  },
  {
   "cell_type": "markdown",
   "metadata": {},
   "source": [
    "## 5. Función de calculo del área de un triángulo\n",
    "\n",
    "Generad una función que devuelva el área de un triángulo, a partir de su base y su altura. Recordad:\n",
    "\n",
    "$$\n",
    "Área_T = \\frac{b \\cdot a}{2}\n",
    "$$ "
   ]
  },
  {
   "cell_type": "code",
   "execution_count": 6,
   "metadata": {},
   "outputs": [
    {
     "name": "stdout",
     "output_type": "stream",
     "text": [
      "226.44\n"
     ]
    }
   ],
   "source": [
    "b = float(input (\"introduce la base del triángulo: \"))\n",
    "a = float(input (\"introduce la altura del triángulo: \"))\n",
    "\n",
    "def area_triangulo(a, b):\n",
    "    return a*b/2\n",
    "\n",
    "print(area_triangulo(a, b))"
   ]
  },
  {
   "cell_type": "markdown",
   "metadata": {},
   "source": [
    "## 6 Función para convertir Celsius a Fahrenheit\n",
    "\n",
    "Generad una función que pase una temperatura en grados Celsius a Fahrenheit. Recordad:\n",
    "\n",
    "$$\n",
    "T_F = T_C \\cdot \\frac{9}{5} + 32\n",
    "$$ "
   ]
  },
  {
   "cell_type": "code",
   "execution_count": 7,
   "metadata": {},
   "outputs": [
    {
     "name": "stdout",
     "output_type": "stream",
     "text": [
      "89.6\n"
     ]
    }
   ],
   "source": [
    "celsius = float(input (\"Introduce los ºC: \"))\n",
    "\n",
    "def celsius_a_fahrenheit(celsius):\n",
    "    return celsius * 9/5 + 32\n",
    "print(celsius_a_fahrenheit(celsius))"
   ]
  },
  {
   "cell_type": "markdown",
   "metadata": {},
   "source": [
    "## 7 Función para calcular el factorial de un número\n",
    "\n",
    "Generad una función que devuelva el factorial de un número entero. Recordad:\n",
    "\n",
    "$$\n",
    "n! = n \\cdot (n-1) \\cdot (n-2) \\cdot... \\cdot 3 \\cdot 2 \\cdot 1\n",
    "$$\n",
    "\n",
    "Excepto si la entrada es 0, entonces:\n",
    "\n",
    "$$0! = 1$$\n"
   ]
  },
  {
   "cell_type": "code",
   "execution_count": 8,
   "metadata": {},
   "outputs": [
    {
     "name": "stdout",
     "output_type": "stream",
     "text": [
      "265252859812191058636308480000000\n"
     ]
    }
   ],
   "source": [
    "numero = int(input (\"Introduce un número entero: \"))\n",
    "\n",
    "def factorial(numero):\n",
    "    if numero == 0:\n",
    "        return 1\n",
    "    else:\n",
    "        return numero * factorial(numero - 1)\n",
    "\n",
    "print(factorial(numero))"
   ]
  },
  {
   "cell_type": "markdown",
   "metadata": {},
   "source": [
    "## 8 Implementación de la función de Fibonacci\n",
    "\n",
    "La función de Fibonacci se define de la siguiente manera:\n",
    "\n",
    "$$\n",
    "F(n<0) = -1\n",
    "$$\n",
    "$$\n",
    "F(0) = 0\n",
    "$$\n",
    "$$\n",
    "F(1) = 1\n",
    "$$\n",
    "$$\n",
    "F(n) = F(n-1) + F(n-2)  \n",
    "$$\n",
    "\n",
    "Calculad los valores de esta función para los enteros entre -2 y 5"
   ]
  },
  {
   "cell_type": "code",
   "execution_count": 9,
   "metadata": {},
   "outputs": [
    {
     "name": "stdout",
     "output_type": "stream",
     "text": [
      "F(-2) = -1\n",
      "F(-1) = -1\n",
      "F(0) = 0\n",
      "F(1) = 1\n",
      "F(2) = 1\n",
      "F(3) = 2\n",
      "F(4) = 3\n",
      "F(5) = 5\n"
     ]
    }
   ],
   "source": [
    "def fibonacci(numero):\n",
    "    if numero < 0:\n",
    "        resultado = -1\n",
    "    else:\n",
    "        if numero == 0:\n",
    "            resultado = 0\n",
    "        elif numero ==1:\n",
    "            resultado = 1\n",
    "        else:\n",
    "            indice = 1\n",
    "            ultimo, penultimo = 1, 0\n",
    "            while indice < numero:\n",
    "                resultado = ultimo + penultimo\n",
    "                ultimo, penultimo = resultado, ultimo\n",
    "                indice = indice + 1\n",
    "    return resultado\n",
    "\n",
    "for numero in range(-2,6):\n",
    "    print(f\"F({numero}) = {fibonacci(numero)}\")"
   ]
  }
 ],
 "metadata": {
  "kernelspec": {
   "display_name": "Python 3",
   "language": "python",
   "name": "python3"
  },
  "language_info": {
   "codemirror_mode": {
    "name": "ipython",
    "version": 3
   },
   "file_extension": ".py",
   "mimetype": "text/x-python",
   "name": "python",
   "nbconvert_exporter": "python",
   "pygments_lexer": "ipython3",
   "version": "3.12.3"
  }
 },
 "nbformat": 4,
 "nbformat_minor": 2
}
