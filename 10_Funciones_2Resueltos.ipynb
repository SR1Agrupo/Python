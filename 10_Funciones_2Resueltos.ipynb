{
 "cells": [
  {
   "cell_type": "markdown",
   "metadata": {},
   "source": [
    "# Introducción a las funciones 2\n",
    "\n",
    "> Una colección de ejercicios sencillos sobre funciones - **Parte 2**\n",
    "\n",
    "En estos ejercicios hay más libertad tanto temporal (el `GitHub Classroom` estará abierto hasta el jueves 25 de abril a las 12:30), como de recursos (aunque se recomienda no recurrir a la `IA` salvo desesperación -i.e. utilizad mayormente la documentación estándar y/o preguntad a los compañeros).\n",
    "\n",
    "Además se incluye alguna pista en los enunciados, es más importante comprender cómo funciona el programa que presentar un algoritmo correcto.\n",
    "\n",
    "> Recordad que en lo(s) problemas de programación del examen de la `3ª evaluación` (en papel, sin ordenador) se puntuará sobre todo que se haya comprendido la lógica y la sintaxis de Python, es decir, el arte de la programación, vaya."
   ]
  },
  {
   "cell_type": "markdown",
   "metadata": {},
   "source": [
    "## 1. Ordenar lista numérica\n",
    "Generar una lista de diez números enteros aleatorios entre 1 y 100.\n",
    "\n",
    "> Para ello puedes utilizar el módulo `random` y su método `randint`. [Docs](https://docs.python.org/es/3/library/random.html#random.randint) \n",
    "\n",
    "Generar una función que ordene la lista creada.\n",
    "\n",
    "Probar su funcionamiento presentando la lista original y la lista ordenada.\n",
    "\n",
    "El resultado debería ser algo de este estilo:\n",
    "\n",
    "```python\n",
    ">>> Lista original: [74, 100, 86, 28, 84, 48, 2, 30, 28, 55]\n",
    ">>> Lista ordenada: [2, 28, 28, 30, 48, 55, 74, 84, 86, 100]\n",
    "```"
   ]
  },
  {
   "cell_type": "code",
   "execution_count": null,
   "metadata": {},
   "outputs": [],
   "source": [
    "import random\n",
    "\n",
    "# Generar una lista de diez números enteros aleatorios entre 1 y 100\n",
    "numeros = [random.randint(1, 100) for i in range(10)]\n",
    "\n",
    "# Función para ordenar la lista\n",
    "def ordenar_lista(lista):\n",
    "    lista_ordenada = sorted(lista)\n",
    "    return lista_ordenada\n",
    "\n",
    "print(\"Lista original:\", numeros)\n",
    "    \n",
    "print(\"Lista ordenada:\", ordenar_lista(numeros))"
   ]
  },
  {
   "cell_type": "markdown",
   "metadata": {},
   "source": [
    "## 2. Ordenar lista de cadenas\n",
    "\n",
    "Generar una lista de 10 cadenas (`strings`) aleatorias, cada una con una longitud de entre `3` y `5` caracteres.\n",
    "\n",
    "Crear una función que ordene alfabéticamente la lista creada.\n",
    "\n",
    "> Aquí se recomienda, además del módulo `random` mencionado en el ejercicio anterior, el módulo [`string`](https://docs.python.org/3/library/string.html).\n",
    "\n",
    "Probar su funcionamiento presentando la lista original y la lista ordenada, el resultado sería algo así:\n",
    "\n",
    "```python\n",
    ">>> Lista original: ['uunmm', 'xalwb', 'okw', 'shbh', 'gls', 'ufg', 'gkf', 'ygbqw', 'mkyrn', 'fkp']\n",
    ">>> Lista ordenada: ['fkp', 'gkf', 'gls', 'mkyrn', 'okw', 'shbh', 'ufg', 'uunmm', 'xalwb', 'ygbqw']\n",
    "```"
   ]
  },
  {
   "cell_type": "code",
   "execution_count": null,
   "metadata": {},
   "outputs": [],
   "source": [
    "import random\n",
    "import string\n",
    "\n",
    "strings = []\n",
    "\n",
    "for i in range(10):\n",
    "    longitud = random.randint(3, 5)  # Longitud aleatoria para cada string\n",
    "    nuevo_string = ''.join(random.choices(string.ascii_lowercase, k=longitud))\n",
    "    strings.append(nuevo_string)\n",
    "\n",
    "# Función para ordenar la lista\n",
    "def ordenar_lista_strings(lista):\n",
    "    lista_ordenada = sorted(lista)\n",
    "    return lista_ordenada\n",
    "\n",
    "print(\"Lista original:\", strings)\n",
    "\n",
    "strings_ordenados = ordenar_lista_strings(strings)\n",
    "print(\"Lista ordenada:\", strings_ordenados)\n"
   ]
  },
  {
   "cell_type": "markdown",
   "metadata": {},
   "source": [
    "## 3. Mezclar dos listas de cadenas\n",
    "\n",
    "Generar dos listas de `5` elementos (una de `strings` y otra numérica) aleatorios, cada uno con una longitud de `2` caracteres.\n",
    "\n",
    "Crear una función que mezcle ambas listas y genere una lista de `tuplas`.\n",
    "\n",
    "> Para ello se recomienda utilizar, además de los módulos usados anteriormente `random` y `string`, la función integrada en Python [`zip()`](https://docs.python.org/es/3/library/functions.html#zip)\n",
    "\n",
    "Probar su funcionamiento presentando la lista de letras, la lista de números y la lista de `tuplas`.\n",
    "\n",
    "El resultado deberá ser algo parecido a esto:\n",
    "\n",
    "```python\n",
    ">>> Lista de letras: ['zs', 'vo', 'br', 'to', 'yj']\n",
    ">>> Lista de números: [70, 93, 41, 27, 69]\n",
    ">>> Mezcla de listas: [('zs', 70), ('vo', 93), ('br', 41), ('to', 27), ('yj', 69)]\n",
    "```"
   ]
  },
  {
   "cell_type": "code",
   "execution_count": null,
   "metadata": {},
   "outputs": [],
   "source": [
    "import random\n",
    "import string\n",
    "\n",
    "letras = []\n",
    "numeros = []\n",
    "mezcla = []\n",
    "\n",
    "for i in range(5):\n",
    "    longitud = random.randint(2, 2)  # Longitud aleatoria para cada cadena\n",
    "    nuevo_string = ''.join(random.choices(string.ascii_lowercase, k=longitud))\n",
    "    letras.append(nuevo_string)\n",
    "\n",
    "numeros = [random.randint(10, 99) for i in range(5)]\n",
    "\n",
    "def mezclar_listas(letras, numeros):\n",
    "    mezcla = list(zip(letras, numeros))  # Convertir el objeto zip a lista\n",
    "    return mezcla\n",
    "\n",
    "print(\"Lista de letras:\", letras)\n",
    "print(\"Lista de números:\", numeros)\n",
    "\n",
    "mezcla = mezclar_listas(letras, numeros)\n",
    "print(\"Mezcla de listas:\", mezcla)\n"
   ]
  },
  {
   "cell_type": "markdown",
   "metadata": {},
   "source": [
    "## 4. Generar contraseña\n",
    "\n",
    "Se busca crear una función que genere una **contraseña robusta** (`salida de la función`) a partir de una **contraseña no robusta** (`entrada de la función`).\n",
    "\n",
    "Para este ejercicio la **contraseña robusta** tendrá `10 caracteres` y la contraseña no robusta menos de `7 caracteres`, de manera que la función se encargará de completar los caracteres que faltan para *alcanzar la robustez* con números (`string.digits`) y/o signos de puntuación (`string.punctuation`). [Docs](https://docs.python.org/3/library/string.html).\n",
    "\n",
    "El resultado será algo así:\n",
    "\n",
    "```python\n",
    ">>> Contraseña no robusta: pepito\n",
    ">>> Contraseña robusta: e[=p'piot?\n",
    "```"
   ]
  },
  {
   "cell_type": "code",
   "execution_count": null,
   "metadata": {},
   "outputs": [],
   "source": [
    "import random\n",
    "import string\n",
    "\n",
    "def generar_pss_rob(pss_no_rob):\n",
    "    # Definir los caracteres posibles para la contraseña robusta\n",
    "    caracteres = string.digits + string.punctuation\n",
    "    \n",
    "    # Completar la contraseña con caracteres aleatorios si es necesario\n",
    "    while len(pss_no_rob) < 10:\n",
    "        pss_no_rob += random.choice(caracteres)\n",
    "    \n",
    "    # Reorganizar la contraseña para que los caracteres estén en un orden aleatorio\n",
    "    pss_rob = ''.join(random.sample(pss_no_rob, len(pss_no_rob)))\n",
    "    \n",
    "    return pss_rob\n",
    "\n",
    "# Ejemplo de uso\n",
    "pss_no_rob = input(\"introducir contraseña no robusta:\")\n",
    "pss_rob = generar_pss_rob(pss_no_rob)\n",
    "print(\"Contraseña no robusta:\", pss_no_rob)\n",
    "print(\"Contraseña robusta:\", pss_rob)\n"
   ]
  },
  {
   "cell_type": "markdown",
   "metadata": {},
   "source": [
    "## 5. Precio + IVA\n",
    "\n",
    "Codificar una función que calcule el total de una factura tras aplicarle el IVA.\n",
    "\n",
    "La función debe recibir el precio sin IVA y el porcentaje de IVA a aplicar. Entonces devolverá el total de la factura.\n",
    "\n",
    "Si se invoca la función sin un valor de IVA, deberá aplicar un 21% por defecto.\n",
    "\n",
    "> Expresar el resultado con dos decimales\n",
    "\n",
    "El resultado debería ser algo así:\n",
    "\n",
    "```python\n",
    ">>> 157.0€ con un 12% de IVA es un total de 175.84€\n",
    "```"
   ]
  },
  {
   "cell_type": "code",
   "execution_count": null,
   "metadata": {},
   "outputs": [],
   "source": [
    "valor = float(input(\"Introduce el valor sin IVA:\"))\n",
    "iva = input(\"Introduce el IVA:\")\n",
    "if iva == \"\":\n",
    "    iva = 21\n",
    "else:\n",
    "    iva = int(iva)\n",
    "def total(valor, iva):\n",
    "    resultado = valor * (1 + iva/100)\n",
    "    return resultado\n",
    "    \n",
    "# Indicando el IVA.\n",
    "print(f\"{valor}€ con un {iva}% de IVA es un total de {total(valor,iva):.2f}€\")"
   ]
  },
  {
   "cell_type": "markdown",
   "metadata": {},
   "source": [
    "## 6. Área de circulo y área de cilindro\n",
    "\n",
    "Escribir una función que calcula el área de un círculo y otra que calcula el volumen de un cilindro usando la función anterior.\n",
    "\n",
    "$$A_{circulo} = \\pi \\cdot R^2$$\n",
    "$$V_{cilindro} = \\pi \\cdot R^2 \\cdot h = A_{circulo} \\cdot h$$\n",
    "\n",
    "Para acceder a la constante $\\pi$ se puede cargar la librería `math` - [Docs](https://docs.python.org/es/3/library/math.html#module-math)\n",
    "\n",
    "> Expresar el resultado con tres decimales\n",
    "\n",
    "El resultado debería ser algo así:\n",
    "\n",
    "```python  \n",
    ">>> El área del círculo es: 706.858 m²\n",
    ">>> El volumen del cilindro es: 21205.750 m³\n",
    "```"
   ]
  },
  {
   "cell_type": "code",
   "execution_count": null,
   "metadata": {},
   "outputs": [],
   "source": [
    "import math\n",
    "\n",
    "radio = float(input(\"El radio del círculo es:\"))\n",
    "altura = float(input(\"El altura del cilindrod es:\"))\n",
    "\n",
    "def areaCirculo(radio):\n",
    "    area = math.pi * radio**2\n",
    "    return area\n",
    "\n",
    "def volumenCilindro(radio, altura):\n",
    "    volumen = areaCirculo(radio)*altura\n",
    "    return volumen\n",
    "\n",
    "print(f\"El área del círculo es: {areaCirculo(radio):.3f} m²\")\n",
    "print(f\"El volumen del cilindro es: {volumenCilindro(radio, altura):.3f} m³\")"
   ]
  }
 ],
 "metadata": {
  "kernelspec": {
   "display_name": "Python 3",
   "language": "python",
   "name": "python3"
  },
  "language_info": {
   "codemirror_mode": {
    "name": "ipython",
    "version": 3
   },
   "file_extension": ".py",
   "mimetype": "text/x-python",
   "name": "python",
   "nbconvert_exporter": "python",
   "pygments_lexer": "ipython3",
   "version": "3.12.2"
  }
 },
 "nbformat": 4,
 "nbformat_minor": 2
}
