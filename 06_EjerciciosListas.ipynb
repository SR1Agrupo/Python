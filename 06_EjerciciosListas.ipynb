{
 "cells": [
  {
   "cell_type": "markdown",
   "metadata": {},
   "source": [
    "# Ejercicios de `listas` en `Python`\n",
    "\n",
    "> Marzo 2024"
   ]
  },
  {
   "cell_type": "markdown",
   "metadata": {},
   "source": [
    "## Ejercicio 1\n",
    "\n",
    "Encuentra el valor máximo y mínimo de las siguientes listas:\n",
    "\n",
    "`lista1 = [-10, 0, 10, 30, 20, 50, 40]`\n",
    "\n",
    "`lista2 = [-100, 0, 10, 30, 20, 50, 40, 500]`\n",
    "\n",
    "`lista3 = [-1000, 0, 10, 30, 20, 50, 40, 1500]]`"
   ]
  },
  {
   "cell_type": "markdown",
   "metadata": {},
   "source": [
    "## Ejercicio 2\n",
    "\n",
    "Calcula el resultado de multiplicar todos los números enteros entre 1 y 50, el producto de solo los números pares de ese intervalo, y lo mismo para los números impares."
   ]
  },
  {
   "cell_type": "markdown",
   "metadata": {},
   "source": [
    "## Ejercicio 3\n",
    "\n",
    "Concatenar las listas del `ejercicio 1` y mostrar la lista resultante."
   ]
  },
  {
   "cell_type": "markdown",
   "metadata": {},
   "source": [
    "## Ejercicio 4\n",
    "\n",
    "Utiliza un bucle `for` para eliminar los elementos duplicados del resultado del `Ejercicio 3`."
   ]
  },
  {
   "cell_type": "markdown",
   "metadata": {},
   "source": [
    "## Ejercicio 5\n",
    "\n",
    "Crear una matriz `M` (o lista de listas) con las siguientes listas:\n",
    "\n",
    "`f1 = [1, 2, 3]`\n",
    "\n",
    "`f2 = [4, 5, 6]`\n",
    "\n",
    "`f3 = [7, 8, 9]`\n",
    "\n",
    "En la matriz resultante `M` efectuar las siguientes operaciones:\n",
    "\n",
    "- Suma todos los elementos de la matriz\n",
    "- Encuentra el valor máximo de la matriz\n",
    "- Encuentra el valor mínimo de la matriz\n",
    "- Transpón la matriz (es decir, intercambia filas y columnas)"
   ]
  }
 ],
 "metadata": {
  "kernelspec": {
   "display_name": "Python 3",
   "language": "python",
   "name": "python3"
  },
  "language_info": {
   "codemirror_mode": {
    "name": "ipython",
    "version": 3
   },
   "file_extension": ".py",
   "mimetype": "text/x-python",
   "name": "python",
   "nbconvert_exporter": "python",
   "pygments_lexer": "ipython3",
   "version": "3.12.2"
  }
 },
 "nbformat": 4,
 "nbformat_minor": 2
}
