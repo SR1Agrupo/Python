{
 "cells": [
  {
   "cell_type": "markdown",
   "metadata": {},
   "source": [
    "**Ejercicio 1**. Diseñar una función que reciba un número entero positivo y devuelva su factorial. \n",
    "       \n",
    "Usando dicha función, mostrar por pantalla el factorial de los números de cero al cinco."
   ]
  },
  {
   "cell_type": "code",
   "execution_count": null,
   "metadata": {},
   "outputs": [],
   "source": []
  },
  {
   "cell_type": "markdown",
   "metadata": {},
   "source": [
    "**Ejercicio 2**. Implementar la función de Fibonacci. La función devolverá el resultado de la función de Fibonacci del número que se le pase como parámetro en el caso de que sea un entero positivo o cero y menos uno si es negativo. \n",
    "       \n",
    "Mostrar el valor de la función de Fibonacci de los número que van desde menos dos a cinco.\n",
    "       \n",
    "<pre>F(n) = F(n-1) + F(n-2) con F(0)=0 y F(1)=1.</pre>"
   ]
  },
  {
   "cell_type": "code",
   "execution_count": null,
   "metadata": {},
   "outputs": [],
   "source": []
  },
  {
   "cell_type": "markdown",
   "metadata": {},
   "source": [
    "**Ejercicio 3**. Escribir una función que calcule el total de una factura tras aplicarle el IVA. La función debe recibir la cantidad sin IVA y el porcentaje de IVA a aplicar, y devolver el total de la factura. Si se invoca la función sin pasarle el porcentaje de IVA, deberá aplicar un 21%."
   ]
  },
  {
   "cell_type": "code",
   "execution_count": null,
   "metadata": {},
   "outputs": [],
   "source": []
  },
  {
   "cell_type": "markdown",
   "metadata": {},
   "source": [
    "**Ejercicio 4**. Escribir una función que calcule el área de un círculo y otra que calcule el volumen de un cilindro usando la primera función."
   ]
  },
  {
   "cell_type": "code",
   "execution_count": null,
   "metadata": {},
   "outputs": [],
   "source": []
  },
  {
   "cell_type": "markdown",
   "metadata": {},
   "source": [
    "**Ejercicio 5** Escribir una función que reciba una lista de números decimales y devuelva su media. Si no se introduce ningún número como argumento la función debe devolver cero."
   ]
  },
  {
   "cell_type": "code",
   "execution_count": null,
   "metadata": {},
   "outputs": [],
   "source": []
  },
  {
   "cell_type": "markdown",
   "metadata": {},
   "source": [
    "**Ejercicio 6**. Escribir la función **estadisticas(*args)** que reciba una muestra de números enteros positivos y devuelva un diccionario con su media, menor y mayor número.\n",
    "       \n",
    "**Ejemplo**. estadisticas(2,5,3,5,4) = {“media”: 3.8, “minimo”: 2, “maximo”:5 }"
   ]
  },
  {
   "cell_type": "code",
   "execution_count": null,
   "metadata": {},
   "outputs": [],
   "source": [
    "   "
   ]
  },
  {
   "cell_type": "markdown",
   "metadata": {},
   "source": [
    "**Ejercicio 7**. Escribir la función **conversionBinario(numero)** que convierta un número decimal en binario. La función tendrá como entrada un número entero en decimal y devolverá una cadena con la representación binaria del número.\n",
    "\n",
    "**Pista**. Comprobar el funcionamiento de la función bin().\n",
    "\n",
    "**Ejemplo** conversionBinario(18) = \"10010\""
   ]
  },
  {
   "cell_type": "code",
   "execution_count": null,
   "metadata": {},
   "outputs": [],
   "source": [
    "   "
   ]
  },
  {
   "cell_type": "markdown",
   "metadata": {},
   "source": [
    "**Ejercicio 8**. Escribir un programa que reciba una cadena de caracteres y devuelva un diccionario con cada palabra que contiene y su frecuencia. \n",
    "       \n",
    "**Pista**. Antes de realizar el recuento de palabras eliminar los signos de puntuación de la cadena."
   ]
  },
  {
   "cell_type": "code",
   "execution_count": null,
   "metadata": {},
   "outputs": [],
   "source": []
  },
  {
   "cell_type": "markdown",
   "metadata": {},
   "source": [
    "**Ejercicio 9**. Escribir una función **factoresPrimos(numero)** que un número entero y devuelva un diccionario con su descomposición en factores primos. Este diccionario tendrá como índices los números primos y como valores las potencias a las que están elevados.\n",
    "       \n",
    "**Ejemplo**. factoresPrimos(68) = {2:2, 17:1}\n",
    "       \n",
    "Mostrar un ejemplo de su uso."
   ]
  },
  {
   "cell_type": "code",
   "execution_count": null,
   "metadata": {},
   "outputs": [],
   "source": []
  },
  {
   "cell_type": "markdown",
   "metadata": {},
   "source": [
    "**Ejercicio 10**. Crear la función **sumaCuadrados(*args)** que devuelva la suma de los cuadrados de los números pasados como parámetro. Hay que tener en cuenta que no se sabe de antemano la cantidad de números que se van a introducir."
   ]
  },
  {
   "cell_type": "code",
   "execution_count": null,
   "metadata": {},
   "outputs": [],
   "source": []
  }
 ],
 "metadata": {
  "kernelspec": {
   "display_name": "Python 3",
   "language": "python",
   "name": "python3"
  },
  "language_info": {
   "codemirror_mode": {
    "name": "ipython",
    "version": 3
   },
   "file_extension": ".py",
   "mimetype": "text/x-python",
   "name": "python",
   "nbconvert_exporter": "python",
   "pygments_lexer": "ipython3",
   "version": "3.8.10"
  }
 },
 "nbformat": 4,
 "nbformat_minor": 4
}
